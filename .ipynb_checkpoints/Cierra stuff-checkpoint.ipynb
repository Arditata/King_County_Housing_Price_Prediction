{
  "cells": [
    {
      "cell_type": "markdown",
      "metadata": {
        "id": "view-in-github",
        "colab_type": "text"
      },
      "source": [
        "<a href=\"https://colab.research.google.com/github/Arditata/King_County_Housing_Price_Prediction/blob/main/.ipynb_checkpoints/Cierra%20stuff-checkpoint.ipynb\" target=\"_parent\"><img src=\"https://colab.research.google.com/assets/colab-badge.svg\" alt=\"Open In Colab\"/></a>"
      ]
    },
    {
      "cell_type": "code",
      "execution_count": null,
      "metadata": {
        "id": "D_yLpFF23zDU"
      },
      "outputs": [],
      "source": [
        "import pandas as pd = Mengimpor library pandas dengan alias pd, yang digunakan untuk analisis dan manipulasi data.\n",
        "import numpy as np =  Mengimpor library numpy dengan alias np, yang digunakan untuk operasi matematika dan manipulasi array.\n",
        "import matplotlib.pyplot as plt =  Mengimpor modul pyplot dari library matplotlib dengan alias plt, yang digunakan untuk membuat visualisasi data.\n",
        "import seaborn as sns = Mengimpor library seaborn dengan alias sns, yang digunakan untuk membuat visualisasi data statistik yang lebih menarik.\n",
        "plt.style.use('seaborn') = Mengatur gaya visualisasi matplotlib menjadi gaya seaborn untuk visualisasi yang lebih estetis.\n",
        "import os =  Mengimpor modul os, yang digunakan untuk berinteraksi dengan sistem operasi, seperti mengakses file atau direktori."
      ]
    },
    {
      "cell_type": "code",
      "execution_count": null,
      "metadata": {
        "id": "i7JnosiG3zDY"
      },
      "outputs": [],
      "source": [
        "import src.tools as tl = Mengimpor modul tools dari package src menggunakan alias tl."
      ]
    },
    {
      "cell_type": "code",
      "execution_count": null,
      "metadata": {
        "scrolled": true,
        "id": "qdusCK4X3zDZ",
        "outputId": "da6dee4d-8fb6-4742-aed4-435af11311b7"
      },
      "outputs": [
        {
          "name": "stdout",
          "output_type": "stream",
          "text": [
            "bom.movie_gross.csv.gz       imdb.title.ratings.csv.gz\r\n",
            "imdb.name.basics.csv.gz      rt.movie_info.tsv.gz\r\n",
            "imdb.title.akas.csv.gz       rt.reviews.tsv.gz\r\n",
            "imdb.title.basics.csv.gz     tmdb.movies.csv.gz\r\n",
            "imdb.title.crew.csv.gz       tn.movie_budgets.csv.gz\r\n",
            "imdb.title.principals.csv.gz\r\n"
          ]
        }
      ],
      "source": [
        "##list files from data folder\n",
        "\n",
        "!ls data = Ini adalah perintah shell yang digunakan di dalam notebook Jupyter untuk menampilkan daftar file yang ada dalam folder data."
      ]
    },
    {
      "cell_type": "code",
      "execution_count": null,
      "metadata": {
        "id": "qAHhj8D03zDa"
      },
      "outputs": [],
      "source": [
        "df1 = pd.read_csv('data/imdb.name.basics.csv.gz')\n",
        "df2 = pd.read_csv('data/bom.movie_gross.csv.gz')\n",
        "df3 = pd.read_csv('data/imdb.title.akas.csv.gz')\n",
        "df4 = pd.read_csv('data/imdb.title.basics.csv.gz')\n",
        "df5 = pd.read_csv('data/imdb.title.principals.csv.gz')\n",
        "df6 = pd.read_csv('data/imdb.title.ratings.csv.gz')\n",
        "df9 = pd.read_csv('data/tmdb.movies.csv.gz')\n",
        "df10 = pd.read_csv('data/tn.movie_budgets.csv.gz')\n",
        "\n",
        "\n",
        "df7 = pd.read_csv('data/rt.reviews.tsv.gz', delimiter='\\t', encoding='windows-1254')\n",
        "df8 = pd.read_csv('data/rt.movie_info.tsv.gz', delimiter='\\t', encoding='windows-1254')\n",
        "PENJELASAN = Membaca file CSV 'imdb.name.basics.csv.gz' yang terkompresi dari folder data dan memuatnya ke dalam DataFrame df1.\n",
        "Pengumpulan Data: Terjadi di sel-sel 4, di mana data dibaca dari file-file CSV yang berada dalam folder data."
      ]
    },
    {
      "cell_type": "code",
      "execution_count": null,
      "metadata": {
        "scrolled": true,
        "id": "6r0JbOKa3zDb",
        "outputId": "5a18f3e3-d637-4fea-aac9-b23bbc24f8ed"
      },
      "outputs": [
        {
          "data": {
            "text/html": [
              "<div>\n",
              "<style scoped>\n",
              "    .dataframe tbody tr th:only-of-type {\n",
              "        vertical-align: middle;\n",
              "    }\n",
              "\n",
              "    .dataframe tbody tr th {\n",
              "        vertical-align: top;\n",
              "    }\n",
              "\n",
              "    .dataframe thead th {\n",
              "        text-align: right;\n",
              "    }\n",
              "</style>\n",
              "<table border=\"1\" class=\"dataframe\">\n",
              "  <thead>\n",
              "    <tr style=\"text-align: right;\">\n",
              "      <th></th>\n",
              "      <th>nconst</th>\n",
              "      <th>primary_name</th>\n",
              "      <th>birth_year</th>\n",
              "      <th>death_year</th>\n",
              "      <th>primary_profession</th>\n",
              "      <th>known_for_titles</th>\n",
              "    </tr>\n",
              "  </thead>\n",
              "  <tbody>\n",
              "    <tr>\n",
              "      <th>0</th>\n",
              "      <td>nm0061671</td>\n",
              "      <td>Mary Ellen Bauder</td>\n",
              "      <td>NaN</td>\n",
              "      <td>NaN</td>\n",
              "      <td>miscellaneous,production_manager,producer</td>\n",
              "      <td>tt0837562,tt2398241,tt0844471,tt0118553</td>\n",
              "    </tr>\n",
              "    <tr>\n",
              "      <th>1</th>\n",
              "      <td>nm0061865</td>\n",
              "      <td>Joseph Bauer</td>\n",
              "      <td>NaN</td>\n",
              "      <td>NaN</td>\n",
              "      <td>composer,music_department,sound_department</td>\n",
              "      <td>tt0896534,tt6791238,tt0287072,tt1682940</td>\n",
              "    </tr>\n",
              "    <tr>\n",
              "      <th>2</th>\n",
              "      <td>nm0062070</td>\n",
              "      <td>Bruce Baum</td>\n",
              "      <td>NaN</td>\n",
              "      <td>NaN</td>\n",
              "      <td>miscellaneous,actor,writer</td>\n",
              "      <td>tt1470654,tt0363631,tt0104030,tt0102898</td>\n",
              "    </tr>\n",
              "    <tr>\n",
              "      <th>3</th>\n",
              "      <td>nm0062195</td>\n",
              "      <td>Axel Baumann</td>\n",
              "      <td>NaN</td>\n",
              "      <td>NaN</td>\n",
              "      <td>camera_department,cinematographer,art_department</td>\n",
              "      <td>tt0114371,tt2004304,tt1618448,tt1224387</td>\n",
              "    </tr>\n",
              "    <tr>\n",
              "      <th>4</th>\n",
              "      <td>nm0062798</td>\n",
              "      <td>Pete Baxter</td>\n",
              "      <td>NaN</td>\n",
              "      <td>NaN</td>\n",
              "      <td>production_designer,art_department,set_decorator</td>\n",
              "      <td>tt0452644,tt0452692,tt3458030,tt2178256</td>\n",
              "    </tr>\n",
              "  </tbody>\n",
              "</table>\n",
              "</div>"
            ],
            "text/plain": [
              "      nconst       primary_name  birth_year  death_year  \\\n",
              "0  nm0061671  Mary Ellen Bauder         NaN         NaN   \n",
              "1  nm0061865       Joseph Bauer         NaN         NaN   \n",
              "2  nm0062070         Bruce Baum         NaN         NaN   \n",
              "3  nm0062195       Axel Baumann         NaN         NaN   \n",
              "4  nm0062798        Pete Baxter         NaN         NaN   \n",
              "\n",
              "                                 primary_profession  \\\n",
              "0         miscellaneous,production_manager,producer   \n",
              "1        composer,music_department,sound_department   \n",
              "2                        miscellaneous,actor,writer   \n",
              "3  camera_department,cinematographer,art_department   \n",
              "4  production_designer,art_department,set_decorator   \n",
              "\n",
              "                          known_for_titles  \n",
              "0  tt0837562,tt2398241,tt0844471,tt0118553  \n",
              "1  tt0896534,tt6791238,tt0287072,tt1682940  \n",
              "2  tt1470654,tt0363631,tt0104030,tt0102898  \n",
              "3  tt0114371,tt2004304,tt1618448,tt1224387  \n",
              "4  tt0452644,tt0452692,tt3458030,tt2178256  "
            ]
          },
          "execution_count": 11,
          "metadata": {},
          "output_type": "execute_result"
        }
      ],
      "source": [
        "df1.head() = Menampilkan beberapa baris pertama dari DataFrame df1. Ini membantu untuk memeriksa struktur dan isi data.\n",
        "Eksplorasi Data: Dilakukan di sel-sel 5 dan 6 dengan menampilkan beberapa baris pertama dari DataFrame untuk memahami struktur dan isi data."
      ]
    },
    {
      "cell_type": "code",
      "execution_count": null,
      "metadata": {
        "id": "dtKZecoa3zDb",
        "outputId": "d022f4b0-1736-456f-9998-18e013ebf62f"
      },
      "outputs": [
        {
          "data": {
            "text/html": [
              "<div>\n",
              "<style scoped>\n",
              "    .dataframe tbody tr th:only-of-type {\n",
              "        vertical-align: middle;\n",
              "    }\n",
              "\n",
              "    .dataframe tbody tr th {\n",
              "        vertical-align: top;\n",
              "    }\n",
              "\n",
              "    .dataframe thead th {\n",
              "        text-align: right;\n",
              "    }\n",
              "</style>\n",
              "<table border=\"1\" class=\"dataframe\">\n",
              "  <thead>\n",
              "    <tr style=\"text-align: right;\">\n",
              "      <th></th>\n",
              "      <th>title</th>\n",
              "      <th>studio</th>\n",
              "      <th>domestic_gross</th>\n",
              "      <th>foreign_gross</th>\n",
              "      <th>year</th>\n",
              "    </tr>\n",
              "  </thead>\n",
              "  <tbody>\n",
              "    <tr>\n",
              "      <th>0</th>\n",
              "      <td>Toy Story 3</td>\n",
              "      <td>BV</td>\n",
              "      <td>415000000.0</td>\n",
              "      <td>652000000</td>\n",
              "      <td>2010</td>\n",
              "    </tr>\n",
              "    <tr>\n",
              "      <th>1</th>\n",
              "      <td>Alice in Wonderland (2010)</td>\n",
              "      <td>BV</td>\n",
              "      <td>334200000.0</td>\n",
              "      <td>691300000</td>\n",
              "      <td>2010</td>\n",
              "    </tr>\n",
              "    <tr>\n",
              "      <th>2</th>\n",
              "      <td>Harry Potter and the Deathly Hallows Part 1</td>\n",
              "      <td>WB</td>\n",
              "      <td>296000000.0</td>\n",
              "      <td>664300000</td>\n",
              "      <td>2010</td>\n",
              "    </tr>\n",
              "    <tr>\n",
              "      <th>3</th>\n",
              "      <td>Inception</td>\n",
              "      <td>WB</td>\n",
              "      <td>292600000.0</td>\n",
              "      <td>535700000</td>\n",
              "      <td>2010</td>\n",
              "    </tr>\n",
              "    <tr>\n",
              "      <th>4</th>\n",
              "      <td>Shrek Forever After</td>\n",
              "      <td>P/DW</td>\n",
              "      <td>238700000.0</td>\n",
              "      <td>513900000</td>\n",
              "      <td>2010</td>\n",
              "    </tr>\n",
              "  </tbody>\n",
              "</table>\n",
              "</div>"
            ],
            "text/plain": [
              "                                         title studio  domestic_gross  \\\n",
              "0                                  Toy Story 3     BV     415000000.0   \n",
              "1                   Alice in Wonderland (2010)     BV     334200000.0   \n",
              "2  Harry Potter and the Deathly Hallows Part 1     WB     296000000.0   \n",
              "3                                    Inception     WB     292600000.0   \n",
              "4                          Shrek Forever After   P/DW     238700000.0   \n",
              "\n",
              "  foreign_gross  year  \n",
              "0     652000000  2010  \n",
              "1     691300000  2010  \n",
              "2     664300000  2010  \n",
              "3     535700000  2010  \n",
              "4     513900000  2010  "
            ]
          },
          "execution_count": 12,
          "metadata": {},
          "output_type": "execute_result"
        }
      ],
      "source": [
        "df2.head() = Menampilkan beberapa baris pertama dari DataFrame df2.\n",
        "Eksplorasi Data: Dilakukan di sel-sel 5 dan 6 dengan menampilkan beberapa baris pertama dari DataFrame untuk memahami struktur dan isi data."
      ]
    },
    {
      "cell_type": "code",
      "execution_count": null,
      "metadata": {
        "id": "emAu6xf93zDd"
      },
      "outputs": [],
      "source": [
        "## to read tsv files\n",
        "# df = pd.read_csv('data/rt.movie_info.tsv.gz', delimiter='\\t', encoding='windows-1254') =ni adalah contoh kode untuk membaca file TSV yang dijelaskan dengan komentar. Namun, tidak ada eksekusi kode dalam sel ini."
      ]
    }
  ],
  "metadata": {
    "kernelspec": {
      "display_name": "Python 3",
      "language": "python",
      "name": "python3"
    },
    "language_info": {
      "codemirror_mode": {
        "name": "ipython",
        "version": 3
      },
      "file_extension": ".py",
      "mimetype": "text/x-python",
      "name": "python",
      "nbconvert_exporter": "python",
      "pygments_lexer": "ipython3",
      "version": "3.6.9"
    },
    "colab": {
      "provenance": [],
      "include_colab_link": true
    }
  },
  "nbformat": 4,
  "nbformat_minor": 0
}