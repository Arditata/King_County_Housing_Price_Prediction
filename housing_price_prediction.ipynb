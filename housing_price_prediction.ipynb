{
 "cells": [
  {
   "cell_type": "markdown",
   "metadata": {},
   "source": [
    "# King County Housing Price Prediction\n",
    "\n",
    "## Overview\n",
    "This project will utilize multiple regression analysis to predict housing prices in King County, WA. The training data will be explored for feature building and the final model will be built and trained by SciKit python library. The data and project scope was provide by Flatiron School for Data Science Immersive program phase 2 final project. \n",
    "\n",
    "## Business Problem\n",
    "A Seattle real estate company seeks to increase porfolio in King County, WA and wants to accurately predict the sales price of a property. Having an accurate sales prediction will aid in strategizing the investment options to maximize their profit. A multiple linaer regression model will be built base on provided property data for this task. \n",
    "\n",
    "During the exploratory phase following questions will also be focused on:\n",
    "1. What location in the county has the highest property value?\n",
    "2. What aspects of the property brings value?\n",
    "3. Do renovations have effect on property value?"
   ]
  },
  {
   "cell_type": "markdown",
   "metadata": {},
   "source": [
    "https://info.kingcounty.gov/assessor/esales/Glossary.aspx?type=r"
   ]
  },
  {
   "cell_type": "markdown",
   "metadata": {},
   "source": [
    "## Library and Data Import"
   ]
  },
  {
   "cell_type": "code",
   "execution_count": 278,
   "metadata": {},
   "outputs": [],
   "source": [
    "import pandas as pd\n",
    "import numpy as np\n",
    "import scipy.stats as stats\n",
    "import matplotlib.pyplot as plt\n",
    "import seaborn as sns\n",
    "import os\n",
    "import statsmodels.api as sm\n",
    "import statsmodels.formula.api as smf\n",
    "from sklearn.model_selection import train_test_split\n",
    "from sklearn.linear_model import LinearRegression\n",
    "from sklearn.feature_selection import RFE\n",
    "from sklearn.feature_selection import RFECV\n",
    "from sklearn import metrics\n",
    "%matplotlib inline"
   ]
  },
  {
   "cell_type": "code",
   "execution_count": 378,
   "metadata": {},
   "outputs": [],
   "source": [
    "kc_df = pd.read_csv(\"data/kc_house_data_train.csv\", index_col=0)"
   ]
  },
  {
   "cell_type": "markdown",
   "metadata": {},
   "source": [
    "## Exploratory Data Analysis\n",
    "\n",
    "This section will seek to answer the questions listed in business problems. The data will be visualized for easy understanding and followed with appropriate statistical analysis for empirical findings within data. Following are the summaries of the questions answered in this section:\n",
    "\n",
    "1. What neighborhood contains most valuable properties?\n",
    "2. Does condition of the property affect the value?\n",
    "    - Are the property age and condition related?\n",
    "3. What features add value to the house?\n",
    "    - Do renovation increase property value?\n",
    "    - Do basements increase property value?"
   ]
  },
  {
   "cell_type": "markdown",
   "metadata": {},
   "source": [
    "### Data Integrity and Description\n",
    "\n",
    "First, the data will be checked for completeness and integrity. This will also provide an opportunity to quickly overview the data set and prepare the future steps. "
   ]
  },
  {
   "cell_type": "code",
   "execution_count": null,
   "metadata": {},
   "outputs": [],
   "source": [
    "pd.DatetimeIndex(dataframe['date']).month\n",
    "dataframe['sale_year'] = pd.DatetimeIndex(dataframe['date']).year\n"
   ]
  },
  {
   "cell_type": "code",
   "execution_count": 5,
   "metadata": {
    "scrolled": false
   },
   "outputs": [
    {
     "name": "stdout",
     "output_type": "stream",
     "text": [
      "There are total 0 null values in the data\n"
     ]
    }
   ],
   "source": [
    "total_null = 0 \n",
    "for null_count in kc_df.isnull().sum():\n",
    "    total_null += null_count\n",
    "print(f\"There are total {total_null} null values in the data\")"
   ]
  },
  {
   "cell_type": "markdown",
   "metadata": {},
   "source": [
    "The data is free of null values and will not require further data cleaning. \n",
    "\n",
    "### Data Structure\n",
    "The data set contains mix of continuous and categorical values. They are separated by columns and below is a brief summary of each columns. \n",
    "\n",
    "#### Column Description\n",
    "- **id** - unique ID for a house\n",
    "- **date** - Date day house was sold\n",
    "- **price** - Price is prediction target\n",
    "- **bedrooms** - Number of bedrooms\n",
    "- **bathrooms** - Number of bathrooms\n",
    "- **sqft_living** - square footage of the home\n",
    "- **sqft_lot** - square footage of the lot\n",
    "- **floors** - Total floors (levels) in house\n",
    "- **waterfront** - Whether house has a view to a waterfront\n",
    "- **view** - Number of times house has been viewed\n",
    "- **condition** - How good the condition is (overall)\n",
    "- **grade** - overall grade given to the housing unit, based on King County grading system\n",
    "- **sqft_above** - square footage of house (apart from basement)\n",
    "- **sqft_basement** - square footage of the basement\n",
    "- **yr_built** - Year when house was built\n",
    "- **yr_renovated** - Year when house was renovated\n",
    "- **zipcode** - zip code in which house is located\n",
    "- **lat** - Latitude coordinate\n",
    "- **long** - Longitude coordinate\n",
    "- **sqft_living15** - The square footage of interior housing living space for the nearest 15 neighbors\n",
    "- **sqft_lot15** - The square footage of the land lots of the nearest 15 neighbors\n",
    "\n",
    "Given that many columns contain categorical values that are not pertinent to basic statistical analysis, only few will be chosen for brief overlook of the data."
   ]
  },
  {
   "cell_type": "code",
   "execution_count": 6,
   "metadata": {},
   "outputs": [],
   "source": [
    "summary_features = [\"price\", \"yr_built\", \"bedrooms\", \"bathrooms\", \"sqft_living\", \"sqft_lot\",\n",
    "                    \"floors\", \"condition\", \"grade\", \"sqft_living15\", \"sqft_lot15\"]"
   ]
  },
  {
   "cell_type": "code",
   "execution_count": 7,
   "metadata": {
    "scrolled": false
   },
   "outputs": [
    {
     "data": {
      "text/html": [
       "<div>\n",
       "<style scoped>\n",
       "    .dataframe tbody tr th:only-of-type {\n",
       "        vertical-align: middle;\n",
       "    }\n",
       "\n",
       "    .dataframe tbody tr th {\n",
       "        vertical-align: top;\n",
       "    }\n",
       "\n",
       "    .dataframe thead th {\n",
       "        text-align: right;\n",
       "    }\n",
       "</style>\n",
       "<table border=\"1\" class=\"dataframe\">\n",
       "  <thead>\n",
       "    <tr style=\"text-align: right;\">\n",
       "      <th></th>\n",
       "      <th>price</th>\n",
       "      <th>yr_built</th>\n",
       "      <th>bedrooms</th>\n",
       "      <th>bathrooms</th>\n",
       "      <th>sqft_living</th>\n",
       "      <th>sqft_lot</th>\n",
       "      <th>floors</th>\n",
       "      <th>condition</th>\n",
       "      <th>grade</th>\n",
       "      <th>sqft_living15</th>\n",
       "      <th>sqft_lot15</th>\n",
       "    </tr>\n",
       "  </thead>\n",
       "  <tbody>\n",
       "    <tr>\n",
       "      <th>count</th>\n",
       "      <td>1.729000e+04</td>\n",
       "      <td>17290.000000</td>\n",
       "      <td>17290.000000</td>\n",
       "      <td>17290.000000</td>\n",
       "      <td>17290.000000</td>\n",
       "      <td>1.729000e+04</td>\n",
       "      <td>17290.000000</td>\n",
       "      <td>17290.000000</td>\n",
       "      <td>17290.000000</td>\n",
       "      <td>17290.000000</td>\n",
       "      <td>17290.000000</td>\n",
       "    </tr>\n",
       "    <tr>\n",
       "      <th>mean</th>\n",
       "      <td>5.407395e+05</td>\n",
       "      <td>1970.792019</td>\n",
       "      <td>3.372470</td>\n",
       "      <td>2.111943</td>\n",
       "      <td>2081.464604</td>\n",
       "      <td>1.524340e+04</td>\n",
       "      <td>1.490312</td>\n",
       "      <td>3.408502</td>\n",
       "      <td>7.654425</td>\n",
       "      <td>1987.986698</td>\n",
       "      <td>12873.475824</td>\n",
       "    </tr>\n",
       "    <tr>\n",
       "      <th>std</th>\n",
       "      <td>3.733190e+05</td>\n",
       "      <td>29.343516</td>\n",
       "      <td>0.939346</td>\n",
       "      <td>0.770476</td>\n",
       "      <td>920.018539</td>\n",
       "      <td>4.230462e+04</td>\n",
       "      <td>0.538909</td>\n",
       "      <td>0.651296</td>\n",
       "      <td>1.174718</td>\n",
       "      <td>684.802635</td>\n",
       "      <td>27227.437583</td>\n",
       "    </tr>\n",
       "    <tr>\n",
       "      <th>min</th>\n",
       "      <td>7.500000e+04</td>\n",
       "      <td>1900.000000</td>\n",
       "      <td>0.000000</td>\n",
       "      <td>0.000000</td>\n",
       "      <td>290.000000</td>\n",
       "      <td>5.720000e+02</td>\n",
       "      <td>1.000000</td>\n",
       "      <td>1.000000</td>\n",
       "      <td>1.000000</td>\n",
       "      <td>399.000000</td>\n",
       "      <td>659.000000</td>\n",
       "    </tr>\n",
       "    <tr>\n",
       "      <th>25%</th>\n",
       "      <td>3.210000e+05</td>\n",
       "      <td>1951.000000</td>\n",
       "      <td>3.000000</td>\n",
       "      <td>1.500000</td>\n",
       "      <td>1430.000000</td>\n",
       "      <td>5.081250e+03</td>\n",
       "      <td>1.000000</td>\n",
       "      <td>3.000000</td>\n",
       "      <td>7.000000</td>\n",
       "      <td>1490.000000</td>\n",
       "      <td>5111.250000</td>\n",
       "    </tr>\n",
       "    <tr>\n",
       "      <th>50%</th>\n",
       "      <td>4.500000e+05</td>\n",
       "      <td>1974.000000</td>\n",
       "      <td>3.000000</td>\n",
       "      <td>2.250000</td>\n",
       "      <td>1920.000000</td>\n",
       "      <td>7.642000e+03</td>\n",
       "      <td>1.500000</td>\n",
       "      <td>3.000000</td>\n",
       "      <td>7.000000</td>\n",
       "      <td>1840.000000</td>\n",
       "      <td>7622.500000</td>\n",
       "    </tr>\n",
       "    <tr>\n",
       "      <th>75%</th>\n",
       "      <td>6.450000e+05</td>\n",
       "      <td>1996.000000</td>\n",
       "      <td>4.000000</td>\n",
       "      <td>2.500000</td>\n",
       "      <td>2550.000000</td>\n",
       "      <td>1.072575e+04</td>\n",
       "      <td>2.000000</td>\n",
       "      <td>4.000000</td>\n",
       "      <td>8.000000</td>\n",
       "      <td>2360.000000</td>\n",
       "      <td>10101.750000</td>\n",
       "    </tr>\n",
       "    <tr>\n",
       "      <th>max</th>\n",
       "      <td>7.700000e+06</td>\n",
       "      <td>2015.000000</td>\n",
       "      <td>33.000000</td>\n",
       "      <td>8.000000</td>\n",
       "      <td>13540.000000</td>\n",
       "      <td>1.651359e+06</td>\n",
       "      <td>3.500000</td>\n",
       "      <td>5.000000</td>\n",
       "      <td>13.000000</td>\n",
       "      <td>6210.000000</td>\n",
       "      <td>858132.000000</td>\n",
       "    </tr>\n",
       "  </tbody>\n",
       "</table>\n",
       "</div>"
      ],
      "text/plain": [
       "              price      yr_built      bedrooms     bathrooms   sqft_living  \\\n",
       "count  1.729000e+04  17290.000000  17290.000000  17290.000000  17290.000000   \n",
       "mean   5.407395e+05   1970.792019      3.372470      2.111943   2081.464604   \n",
       "std    3.733190e+05     29.343516      0.939346      0.770476    920.018539   \n",
       "min    7.500000e+04   1900.000000      0.000000      0.000000    290.000000   \n",
       "25%    3.210000e+05   1951.000000      3.000000      1.500000   1430.000000   \n",
       "50%    4.500000e+05   1974.000000      3.000000      2.250000   1920.000000   \n",
       "75%    6.450000e+05   1996.000000      4.000000      2.500000   2550.000000   \n",
       "max    7.700000e+06   2015.000000     33.000000      8.000000  13540.000000   \n",
       "\n",
       "           sqft_lot        floors     condition         grade  sqft_living15  \\\n",
       "count  1.729000e+04  17290.000000  17290.000000  17290.000000   17290.000000   \n",
       "mean   1.524340e+04      1.490312      3.408502      7.654425    1987.986698   \n",
       "std    4.230462e+04      0.538909      0.651296      1.174718     684.802635   \n",
       "min    5.720000e+02      1.000000      1.000000      1.000000     399.000000   \n",
       "25%    5.081250e+03      1.000000      3.000000      7.000000    1490.000000   \n",
       "50%    7.642000e+03      1.500000      3.000000      7.000000    1840.000000   \n",
       "75%    1.072575e+04      2.000000      4.000000      8.000000    2360.000000   \n",
       "max    1.651359e+06      3.500000      5.000000     13.000000    6210.000000   \n",
       "\n",
       "          sqft_lot15  \n",
       "count   17290.000000  \n",
       "mean    12873.475824  \n",
       "std     27227.437583  \n",
       "min       659.000000  \n",
       "25%      5111.250000  \n",
       "50%      7622.500000  \n",
       "75%     10101.750000  \n",
       "max    858132.000000  "
      ]
     },
     "execution_count": 7,
     "metadata": {},
     "output_type": "execute_result"
    }
   ],
   "source": [
    "kc_df[summary_features].describe()"
   ]
  },
  {
   "cell_type": "markdown",
   "metadata": {},
   "source": [
    "#### Column Analysis (summary_features)\n",
    "- **price** - Price has a large gap of 2 magnitude. Further analysis will be required especially against the sale date. \n",
    "- **yr_built** - The data set contains builds built from 1900 to 2015.\n",
    "- **bedrooms** - 0 bedrooms indicate studio apartment, most homes contain 4 or less bedrooms with some extreme outliers.\n",
    "- **bathrooms** - Surprising to find that there are homes with 0 bathrooms. Most seem to have at least a 3/4 bathroom. \n",
    "- **sqft_living** - Living area also varies greatly from a small apartments to mansions. \n",
    "- **sqft_lot** - Similar to sqft_living above.\n",
    "- **floors** - There are half floors to account for, which are top levels that do not spand the entirity of the house. \n",
    "- **condition** - Average properties sold are sold at 3.4 (may require superficial repair).\n",
    "- **grade** - Average grade given in King County is 7, which means average properties are sold in slightly above average grade. \n",
    "- **sqft_living15** - The neighboring properties tend to be similar in sizes (similar trend to sqft_lving)\n",
    "- **sqft_lot15** - Similar to sqft_living15 above"
   ]
  },
  {
   "cell_type": "markdown",
   "metadata": {},
   "source": [
    "### Property Value by Zipcode\n",
    "\n",
    "What neighborhood contains most valuable properties?\n",
    "<br>\n",
    "Analyzing the average property values per zipcode results in Medina, Belleve, Mercer Island, Madison Park, and Capitol Hill area to be neighborhood with the highest average property values. Most properties in these neighborhood doubles the average property value of King County with average property value of Medina **quadrupling** that of King County. It seems that the proximity to the Lake Washington and large parks are driving the value of these properties higher. "
   ]
  },
  {
   "cell_type": "code",
   "execution_count": 8,
   "metadata": {
    "scrolled": true
   },
   "outputs": [
    {
     "data": {
      "image/png": "[encoded data removed]",
      "text/plain": [
       "<Figure size 576x288 with 1 Axes>"
      ]
     },
     "metadata": {
      "needs_background": "light"
     },
     "output_type": "display_data"
    }
   ],
   "source": [
    "#property values by zipcode calculation\n",
    "kc_top5_price = kc_df.groupby(\"zipcode\")[\"price\"].mean().sort_values(ascending = False)[:5]\n",
    "kc_mean_price = kc_df.price.mean()\n",
    "#top5 neighborhood label for plot\n",
    "area_labels = [\"Medina\", \"Bellevue\", \"Mercer Island\", \n",
    "               \"Madison Park\", \"Capitol Hill\"]\n",
    "\n",
    "#plotting the data\n",
    "plt.subplots(figsize=(8,4))\n",
    "sns.barplot(x=kc_top5_price.index, y=kc_top5_price, order=kc_top5_price.index, palette=\"Blues_d\") #blue for seahawks!\n",
    "plt.xticks(np.arange(5), area_labels, rotation=75, size=8) #relabel x with list above\n",
    "plt.hlines(kc_mean_price, -.5 ,4.5, colors=\"darkgoldenrod\", label=\"Average Price\") #plot average price horizontal line\n",
    "\n",
    "#prettify graph\n",
    "plt.xlabel(\"Neighborhoods\", size=14)\n",
    "plt.ylabel(\"Prices ($1mil)\", size=14)\n",
    "plt.title(\"Neighborhoods with Highest Property Price\", size=16, y=1.08)\n",
    "plt.legend() #show legend\n",
    "\n",
    "#uncomment line below to export image\n",
    "plt.savefig(\"images/high_price_neighborhood.png\",bbox_inches = \"tight\")\n",
    "plt.show();"
   ]
  },
  {
   "cell_type": "markdown",
   "metadata": {},
   "source": [
    "#### ANOVA of Property Prices using Top 5 Neighborhoods"
   ]
  },
  {
   "cell_type": "code",
   "execution_count": 203,
   "metadata": {
    "scrolled": true
   },
   "outputs": [
    {
     "name": "stdout",
     "output_type": "stream",
     "text": [
      "Top 5 ranked zipcode have a statistically significant impact on average property value\n",
      "Zipcdoe ANOVA F-statisic Probability:  6.813536869407728e-24\n"
     ]
    }
   ],
   "source": [
    "alpha = 0.05 \n",
    "#ANOVA Test Setup\n",
    "kc_top5 = kc_df[kc_df.zipcode.isin(kc_top5_price.index)]\n",
    "formula = 'price~C(zipcode)'\n",
    "lm_top5 = smf.ols(formula, kc_top5).fit()\n",
    "anova_top5_table = sm.stats.anova_lm(lm_top5, typ=2)\n",
    "\n",
    "if anova_top5_table[\"PR(>F)\"][0] < alpha:\n",
    "    print(\"Top 5 ranked zipcode have a statistically significant impact on average property value\")\n",
    "    print(\"Zipcdoe ANOVA F-statisic Probability: \", anova_condition[\"PR(>F)\"][0])"
   ]
  },
  {
   "cell_type": "markdown",
   "metadata": {},
   "source": [
    "Findings above"
   ]
  },
  {
   "cell_type": "code",
   "execution_count": 413,
   "metadata": {},
   "outputs": [
    {
     "data": {
      "text/plain": [
       "array([98058, 98115, 98006, 98034, 98052, 98031, 98007, 98199, 98027,\n",
       "       98119, 98122, 98155, 98055, 98118, 98014, 98059, 98004, 98053,\n",
       "       98072, 98133, 98092, 98074, 98125, 98045, 98106, 98022, 98177,\n",
       "       98008, 98002, 98040, 98029, 98042, 98001, 98065, 98056, 98144,\n",
       "       98188, 98109, 98010, 98075, 98198, 98030, 98105, 98023, 98028,\n",
       "       98112, 98038, 98116, 98103, 98178, 98168, 98005, 98077, 98146,\n",
       "       98011, 98126, 98108, 98136, 98033, 98003, 98117, 98107, 98019,\n",
       "       98102, 98032, 98148, 98166, 98070, 98024, 98039], dtype=int64)"
      ]
     },
     "execution_count": 413,
     "metadata": {},
     "output_type": "execute_result"
    }
   ],
   "source": [
    "kc_df.zipcode.unique()"
   ]
  },
  {
   "cell_type": "markdown",
   "metadata": {},
   "source": [
    "#### ADD FOLIUM MAP SCATTER THING HERE"
   ]
  },
  {
   "cell_type": "code",
   "execution_count": 399,
   "metadata": {},
   "outputs": [
    {
     "data": {
      "text/plain": [
       "<AxesSubplot:xlabel='zipcode', ylabel='price'>"
      ]
     },
     "execution_count": 399,
     "metadata": {},
     "output_type": "execute_result"
    },
    {
     "data": {
      "image/png": "[encoded data removed]",
      "text/plain": [
       "<Figure size 432x288 with 1 Axes>"
      ]
     },
     "metadata": {
      "needs_background": "light"
     },
     "output_type": "display_data"
    }
   ],
   "source": [
    "kc_df.plot(kind=\"scatter\", x=\"zipcode\", y=\"price\")"
   ]
  },
  {
   "cell_type": "markdown",
   "metadata": {},
   "source": [
    "### Does Condition Affect Property Value"
   ]
  },
  {
   "cell_type": "code",
   "execution_count": 122,
   "metadata": {
    "scrolled": false
   },
   "outputs": [
    {
     "data": {
      "image/png": "[encoded data removed]",
      "text/plain": [
       "<Figure size 576x288 with 3 Axes>"
      ]
     },
     "metadata": {
      "needs_background": "light"
     },
     "output_type": "display_data"
    }
   ],
   "source": [
    "#-------------------Conditions Calculation--------------------------------#\n",
    "condition_mean = kc_df.groupby(\"condition\")[\"price\"].mean()\n",
    "condition_median = kc_df.groupby(\"condition\")[\"price\"].median()\n",
    "condition_score = np.arange(1,6)\n",
    "\n",
    "#--------------------------Bar Plots--------------------------------------#\n",
    "#set subplot data\n",
    "fig, ax = plt.subplots(figsize=(8,4))\n",
    "ax2 = ax.twinx() #set ax2 on same x axis as ax\n",
    "ax3 = ax.twinx() #same as above, for hline\n",
    "\n",
    "#barplots \n",
    "ax.bar(x=condition_score, height=condition_median, width=width,\n",
    "       label=\"Median Price\", color=\"midnightblue\", alpha=0.8)\n",
    "ax2.bar(x=condition_score, height=condition_mean, width=width,\n",
    "        label=\"Mean Price\", color=\"royalblue\", alpha=0.8)\n",
    "\n",
    "#horizontal line for mean price\n",
    "ax3.hlines(kc_mean_price, .7 ,5.3, colors=\"red\", label=\"Average Price\")\n",
    "\n",
    "#set ylimit to the same scale and display only 1\n",
    "ax.set_ylim(0,1.2*condition_mean.max())\n",
    "ax2.set_ylim(0,1.2*condition_mean.max())\n",
    "ax3.set_ylim(0,1.2*condition_mean.max())\n",
    "ax2.yaxis.set_visible(False) #hide the 2nd axis\n",
    "ax3.yaxis.set_visible(False)\n",
    "\n",
    "#set legend positions\n",
    "ax.legend(bbox_to_anchor=(0,0,1,1), loc=\"upper left\")\n",
    "ax2.legend(bbox_to_anchor=(0,-.1,1,1), loc=\"upper left\")\n",
    "ax3.legend(bbox_to_anchor=(0,0,1,1), loc=\"upper right\")\n",
    "\n",
    "#prettify graph\n",
    "ax.set_ylabel(\"Average Prices ($)\", size=14)\n",
    "ax.set_xlabel(\"Condition Score\", size=14)\n",
    "plt.title(\"Average Property Value per Condition\", size=16, y=1.08)\n",
    "\n",
    "#uncomment line below to export image\n",
    "plt.savefig(\"images/condition_value.png\",bbox_inches = \"tight\")\n",
    "plt.legend()\n",
    "plt.show();"
   ]
  },
  {
   "cell_type": "markdown",
   "metadata": {},
   "source": [
    "#### ANOVA of Property Prices using Conditions"
   ]
  },
  {
   "cell_type": "code",
   "execution_count": 179,
   "metadata": {},
   "outputs": [
    {
     "name": "stdout",
     "output_type": "stream",
     "text": [
      "The property condition have a statistically significant impact on average property value\n",
      "Conditions F-statisic Probability:  6.813536869407728e-24\n"
     ]
    }
   ],
   "source": [
    "alpha = 0.05 \n",
    "#ANOVA Test Setup\n",
    "formula = 'price~C(condition)'\n",
    "lm_condition = smf.ols(formula, kc_df).fit()\n",
    "anova_condition = sm.stats.anova_lm(lm_condition, typ=2)\n",
    "\n",
    "if anova_condition[\"PR(>F)\"][0] < alpha:\n",
    "    print(\"The property condition have a statistically significant impact on average property value\")\n",
    "    print(\"Conditions F-statisic Probability: \", anova_condition[\"PR(>F)\"][0])"
   ]
  },
  {
   "cell_type": "markdown",
   "metadata": {},
   "source": [
    "Findings above"
   ]
  },
  {
   "cell_type": "markdown",
   "metadata": {},
   "source": [
    "### What features of the house add value to the house?\n",
    "\n",
    "Does a house having a basement add value to the house?"
   ]
  },
  {
   "cell_type": "code",
   "execution_count": 155,
   "metadata": {
    "scrolled": true
   },
   "outputs": [
    {
     "data": {
      "image/png": "[encoded data removed]",
      "text/plain": [
       "<Figure size 1008x288 with 2 Axes>"
      ]
     },
     "metadata": {
      "needs_background": "light"
     },
     "output_type": "display_data"
    }
   ],
   "source": [
    "#--------------------------Property Feature Calculation---------------------------------------#\n",
    "basement = kc_df[(kc_df[\"sqft_basement\"] > 0)]\n",
    "basement_mean = basement.price.mean()\n",
    "no_basement = kc_df[(kc_df[\"sqft_basement\"] == 0)]\n",
    "no_basement_mean = no_basement.price.mean()\n",
    "\n",
    "#mean values to plot\n",
    "renovated = kc_df[(kc_df[\"yr_renovated\"] > 0)]\n",
    "renovated_mean = renovated.price.mean()\n",
    "not_renovated = kc_df[(kc_df[\"yr_renovated\"] == 0)]\n",
    "not_renovated_mean = not_renovated.price.mean()\n",
    "\n",
    "#prepare plot labels\n",
    "label_basement = [\"Basement\", \"No basement\"]\n",
    "values_basement = [basement_mean, no_basement_mean]\n",
    "label_renovation = [\"Renovated\", \"No Renovation\"]\n",
    "values_renovation = [renovated_mean, not_renovated_mean]\n",
    "\n",
    "#--------------------------Bar Plots--------------------------------------#\n",
    "fig, ax = plt.subplots(1, 2, figsize=(14,4))\n",
    "\n",
    "sns.barplot(ax=ax[0], x=label_basement, y=values_basement, palette=\"Blues_r\")\n",
    "sns.barplot(ax=ax[1], x=label_renovation, y=values_renovation, palette=\"Blues_r\")\n",
    "ax[0].hlines(kc_mean_price, -.5 ,1.5, colors=\"coral\", label=\"Average Price\") #plot average price horizontal line\n",
    "ax[1].hlines(kc_mean_price, -.5 ,1.5, colors=\"coral\", label=\"Average Price\") #plot average price horizontal line\n",
    "\n",
    "#prettify graph\n",
    "ax[0].set_ylabel(\"Average Prices ($)\", size=12)\n",
    "ax[0].set_title(\"Average Property Value\", size=14)\n",
    "ax[0].set_ylim(0,1.1*renovated_mean)\n",
    "ax[0].legend()\n",
    "\n",
    "ax[1].set_ylabel(\"Average Prices ($)\", size=12)\n",
    "ax[1].set_title(\"Average Property Value\", size=14)\n",
    "ax[1].set_ylim(0,1.1*renovated_mean)\n",
    "ax[1].legend()\n",
    "\n",
    "plt.suptitle(\"Affect of Basement and Renovation on Property Value\", size=16, y=1.02)\n",
    "\n",
    "#uncomment below to export image\n",
    "plt.savefig(\"images/basement_renovation_value.png\",bbox_inches = \"tight\")\n",
    "plt.show();"
   ]
  },
  {
   "cell_type": "markdown",
   "metadata": {},
   "source": [
    "#### Property Features Statistical Analysis\n",
    "\n",
    "$\\alpha$ = 0.05\n",
    "\n",
    "**Basement** <Br>\n",
    "Null-Hypothesis: There are no significant difference in average property value between properties with or without basements. <Br>\n",
    "Alternative Hypothesis: There no significant difference in average property value between properties with or without basements. \n",
    "<Br>\n",
    "    \n",
    "**Renovation** <Br>\n",
    "Null-Hypothesis: There are no significant difference in average property value between properties with or without renovation. \n",
    "<Br>\n",
    "Alternative Hypothesis: There no significant difference in average property value between properties with or without renovation. "
   ]
  },
  {
   "cell_type": "code",
   "execution_count": 181,
   "metadata": {
    "scrolled": true
   },
   "outputs": [
    {
     "name": "stdout",
     "output_type": "stream",
     "text": [
      "Basement vs No Basement T-test P Value:  1.935598808013724e-102\n",
      "The P value is less than alpha, reject null-hypothesis\n",
      "\n",
      "\n",
      "Renovated vs Not Renovated T-test P Value:  6.478917377975333e-20\n",
      "The P value is less than alpha, reject null-hypothesis\n"
     ]
    }
   ],
   "source": [
    "alpha = 0.05\n",
    "basement_p_val = stats.ttest_ind(basement.price, no_basement.price, equal_var=False)[1]\n",
    "print(\"Basement vs No Basement T-test P Value: \", basement_p_val)\n",
    "if basement_p_val < alpha:\n",
    "    print(\"The P value is less than alpha, reject null-hypothesis\")\n",
    "\n",
    "print(\"\\n\") #white space for formatting output\n",
    "\n",
    "renovation_p_val = stats.ttest_ind(renovated.price, not_renovated.price, equal_var=False)[1]\n",
    "print(\"Renovated vs Not Renovated T-test P Value: \", renovation_p_val)\n",
    "if renovation_p_val < alpha:\n",
    "    print(\"The P value is less than alpha, reject null-hypothesis\")"
   ]
  },
  {
   "cell_type": "markdown",
   "metadata": {},
   "source": [
    "Findings above"
   ]
  },
  {
   "cell_type": "markdown",
   "metadata": {},
   "source": [
    "### EDA Summary\n",
    "\n",
    "1. What neighborhood contains most valuable properties?\n",
    "    - Medina, Belleve, Mercer Island, Madison Park, and Capitol Hill neighborhood in King County have highest average property values. The property values of these areas have statistically significant differences from the King County average property values. \n",
    "    \n",
    "\n",
    "2. Does condition of the property affect the value?\n",
    "    - Conditions of the property have statistically significant effects on the property value. However, the average value of condition 4/5 was less than the condition of 3/5. This could be due to other factors such as apartments/co-ops, which may have lower price per property, but tends to be better maintained than a private home. \n",
    "\n",
    "\n",
    "3. What features add value to the house?\n",
    "    - A renovated property have higher value than a non-renovated property.\n",
    "    - Basements add significant value to the property."
   ]
  },
  {
   "cell_type": "markdown",
   "metadata": {},
   "source": [
    "### Correlation Check and Preliminiary Linear Regression\n",
    "\n",
    "Is this section necessary? Do I want to keep this section?"
   ]
  },
  {
   "cell_type": "code",
   "execution_count": 161,
   "metadata": {
    "scrolled": true
   },
   "outputs": [
    {
     "data": {
      "image/png": "[encoded data removed]",
      "text/plain": [
       "<Figure size 1296x1296 with 2 Axes>"
      ]
     },
     "metadata": {
      "needs_background": "light"
     },
     "output_type": "display_data"
    }
   ],
   "source": [
    "plt.subplots(figsize=(18,18))\n",
    "sns.heatmap(kc_df.iloc[:,1:].corr(), annot=True, linewidths=.5, cmap=\"RdBu\", vmin = -1, vmax=1)\n",
    "plt.title(\"Correlation Matrix Heatmap of All Features\", size=16);"
   ]
  },
  {
   "cell_type": "markdown",
   "metadata": {},
   "source": [
    "### Preliminary Mulitple Linear Regression\n",
    "Using the correlation matrix heatmap above it can be seen that `sqft_living`, `grade`, and `sqft_lving15` have highest correlation to the price. However, given that they are also highly correlated with `sqft_lving` only `sqft_lving` used among them. Also, `bedrooms` and `floors` also have slight positive correlation to the price and do not have high correlation (0.7 or above) between them or `sqft_living`. Therefore, a simple multiple linear regression will be made using `statsmodel` to set a baseline for future linear regression model. "
   ]
  },
  {
   "cell_type": "code",
   "execution_count": 182,
   "metadata": {},
   "outputs": [
    {
     "data": {
      "text/html": [
       "<table class=\"simpletable\">\n",
       "<caption>OLS Regression Results</caption>\n",
       "<tr>\n",
       "  <th>Dep. Variable:</th>          <td>price</td>      <th>  R-squared:         </th>  <td>   0.731</td>  \n",
       "</tr>\n",
       "<tr>\n",
       "  <th>Model:</th>                   <td>OLS</td>       <th>  Adj. R-squared:    </th>  <td>   0.730</td>  \n",
       "</tr>\n",
       "<tr>\n",
       "  <th>Method:</th>             <td>Least Squares</td>  <th>  F-statistic:       </th>  <td>   649.6</td>  \n",
       "</tr>\n",
       "<tr>\n",
       "  <th>Date:</th>             <td>Wed, 21 Oct 2020</td> <th>  Prob (F-statistic):</th>   <td>  0.00</td>   \n",
       "</tr>\n",
       "<tr>\n",
       "  <th>Time:</th>                 <td>20:42:38</td>     <th>  Log-Likelihood:    </th> <td>-2.3502e+05</td>\n",
       "</tr>\n",
       "<tr>\n",
       "  <th>No. Observations:</th>      <td> 17290</td>      <th>  AIC:               </th>  <td>4.702e+05</td> \n",
       "</tr>\n",
       "<tr>\n",
       "  <th>Df Residuals:</th>          <td> 17217</td>      <th>  BIC:               </th>  <td>4.707e+05</td> \n",
       "</tr>\n",
       "<tr>\n",
       "  <th>Df Model:</th>              <td>    72</td>      <th>                     </th>      <td> </td>     \n",
       "</tr>\n",
       "<tr>\n",
       "  <th>Covariance Type:</th>      <td>nonrobust</td>    <th>                     </th>      <td> </td>     \n",
       "</tr>\n",
       "</table>\n",
       "<table class=\"simpletable\">\n",
       "<tr>\n",
       "           <td></td>              <th>coef</th>     <th>std err</th>      <th>t</th>      <th>P>|t|</th>  <th>[0.025</th>    <th>0.975]</th>  \n",
       "</tr>\n",
       "<tr>\n",
       "  <th>Intercept</th>           <td>-3.244e+05</td> <td> 1.47e+04</td> <td>  -22.122</td> <td> 0.000</td> <td>-3.53e+05</td> <td>-2.96e+05</td>\n",
       "</tr>\n",
       "<tr>\n",
       "  <th>C(zipcode)[T.98002]</th> <td> 9471.9243</td> <td> 1.93e+04</td> <td>    0.490</td> <td> 0.624</td> <td>-2.84e+04</td> <td> 4.74e+04</td>\n",
       "</tr>\n",
       "<tr>\n",
       "  <th>C(zipcode)[T.98003]</th> <td> 2453.0243</td> <td> 1.73e+04</td> <td>    0.141</td> <td> 0.888</td> <td>-3.15e+04</td> <td> 3.64e+04</td>\n",
       "</tr>\n",
       "<tr>\n",
       "  <th>C(zipcode)[T.98004]</th> <td> 8.381e+05</td> <td> 1.72e+04</td> <td>   48.765</td> <td> 0.000</td> <td> 8.04e+05</td> <td> 8.72e+05</td>\n",
       "</tr>\n",
       "<tr>\n",
       "  <th>C(zipcode)[T.98005]</th> <td> 3.239e+05</td> <td> 2.01e+04</td> <td>   16.107</td> <td> 0.000</td> <td> 2.85e+05</td> <td> 3.63e+05</td>\n",
       "</tr>\n",
       "<tr>\n",
       "  <th>C(zipcode)[T.98006]</th> <td> 3.186e+05</td> <td> 1.53e+04</td> <td>   20.815</td> <td> 0.000</td> <td> 2.89e+05</td> <td> 3.49e+05</td>\n",
       "</tr>\n",
       "<tr>\n",
       "  <th>C(zipcode)[T.98007]</th> <td>  2.61e+05</td> <td>  2.1e+04</td> <td>   12.416</td> <td> 0.000</td> <td>  2.2e+05</td> <td> 3.02e+05</td>\n",
       "</tr>\n",
       "<tr>\n",
       "  <th>C(zipcode)[T.98008]</th> <td> 3.014e+05</td> <td> 1.73e+04</td> <td>   17.390</td> <td> 0.000</td> <td> 2.67e+05</td> <td> 3.35e+05</td>\n",
       "</tr>\n",
       "<tr>\n",
       "  <th>C(zipcode)[T.98010]</th> <td> 6.228e+04</td> <td> 2.53e+04</td> <td>    2.458</td> <td> 0.014</td> <td> 1.26e+04</td> <td> 1.12e+05</td>\n",
       "</tr>\n",
       "<tr>\n",
       "  <th>C(zipcode)[T.98011]</th> <td> 1.249e+05</td> <td> 1.91e+04</td> <td>    6.545</td> <td> 0.000</td> <td> 8.75e+04</td> <td> 1.62e+05</td>\n",
       "</tr>\n",
       "<tr>\n",
       "  <th>C(zipcode)[T.98014]</th> <td>  1.19e+05</td> <td> 2.25e+04</td> <td>    5.291</td> <td> 0.000</td> <td> 7.49e+04</td> <td> 1.63e+05</td>\n",
       "</tr>\n",
       "<tr>\n",
       "  <th>C(zipcode)[T.98019]</th> <td>  6.92e+04</td> <td> 1.98e+04</td> <td>    3.490</td> <td> 0.000</td> <td> 3.03e+04</td> <td> 1.08e+05</td>\n",
       "</tr>\n",
       "<tr>\n",
       "  <th>C(zipcode)[T.98022]</th> <td> 3.495e+04</td> <td> 1.82e+04</td> <td>    1.916</td> <td> 0.055</td> <td> -803.890</td> <td> 7.07e+04</td>\n",
       "</tr>\n",
       "<tr>\n",
       "  <th>C(zipcode)[T.98023]</th> <td> -1.54e+04</td> <td>  1.5e+04</td> <td>   -1.028</td> <td> 0.304</td> <td>-4.48e+04</td> <td>  1.4e+04</td>\n",
       "</tr>\n",
       "<tr>\n",
       "  <th>C(zipcode)[T.98024]</th> <td> 1.832e+05</td> <td> 2.67e+04</td> <td>    6.862</td> <td> 0.000</td> <td> 1.31e+05</td> <td> 2.36e+05</td>\n",
       "</tr>\n",
       "<tr>\n",
       "  <th>C(zipcode)[T.98027]</th> <td> 1.773e+05</td> <td> 1.57e+04</td> <td>   11.281</td> <td> 0.000</td> <td> 1.47e+05</td> <td> 2.08e+05</td>\n",
       "</tr>\n",
       "<tr>\n",
       "  <th>C(zipcode)[T.98028]</th> <td> 1.333e+05</td> <td> 1.75e+04</td> <td>    7.634</td> <td> 0.000</td> <td> 9.91e+04</td> <td> 1.68e+05</td>\n",
       "</tr>\n",
       "<tr>\n",
       "  <th>C(zipcode)[T.98029]</th> <td>  2.23e+05</td> <td> 1.69e+04</td> <td>   13.226</td> <td> 0.000</td> <td>  1.9e+05</td> <td> 2.56e+05</td>\n",
       "</tr>\n",
       "<tr>\n",
       "  <th>C(zipcode)[T.98030]</th> <td>-5904.4878</td> <td> 1.79e+04</td> <td>   -0.330</td> <td> 0.741</td> <td> -4.1e+04</td> <td> 2.92e+04</td>\n",
       "</tr>\n",
       "<tr>\n",
       "  <th>C(zipcode)[T.98031]</th> <td> 2145.9084</td> <td> 1.75e+04</td> <td>    0.122</td> <td> 0.903</td> <td>-3.23e+04</td> <td> 3.65e+04</td>\n",
       "</tr>\n",
       "<tr>\n",
       "  <th>C(zipcode)[T.98032]</th> <td> 2.095e+04</td> <td> 2.23e+04</td> <td>    0.938</td> <td> 0.348</td> <td>-2.28e+04</td> <td> 6.47e+04</td>\n",
       "</tr>\n",
       "<tr>\n",
       "  <th>C(zipcode)[T.98033]</th> <td> 3.896e+05</td> <td> 1.55e+04</td> <td>   25.172</td> <td> 0.000</td> <td> 3.59e+05</td> <td>  4.2e+05</td>\n",
       "</tr>\n",
       "<tr>\n",
       "  <th>C(zipcode)[T.98034]</th> <td> 2.285e+05</td> <td> 1.48e+04</td> <td>   15.427</td> <td> 0.000</td> <td> 1.99e+05</td> <td> 2.58e+05</td>\n",
       "</tr>\n",
       "<tr>\n",
       "  <th>C(zipcode)[T.98038]</th> <td> 1.322e+04</td> <td> 1.47e+04</td> <td>    0.900</td> <td> 0.368</td> <td>-1.56e+04</td> <td>  4.2e+04</td>\n",
       "</tr>\n",
       "<tr>\n",
       "  <th>C(zipcode)[T.98039]</th> <td> 1.398e+06</td> <td> 3.23e+04</td> <td>   43.315</td> <td> 0.000</td> <td> 1.34e+06</td> <td> 1.46e+06</td>\n",
       "</tr>\n",
       "<tr>\n",
       "  <th>C(zipcode)[T.98040]</th> <td> 5.939e+05</td> <td> 1.74e+04</td> <td>   34.127</td> <td> 0.000</td> <td>  5.6e+05</td> <td> 6.28e+05</td>\n",
       "</tr>\n",
       "<tr>\n",
       "  <th>C(zipcode)[T.98042]</th> <td> 1956.7939</td> <td> 1.49e+04</td> <td>    0.131</td> <td> 0.896</td> <td>-2.72e+04</td> <td> 3.12e+04</td>\n",
       "</tr>\n",
       "<tr>\n",
       "  <th>C(zipcode)[T.98045]</th> <td> 1.177e+05</td> <td> 1.86e+04</td> <td>    6.321</td> <td> 0.000</td> <td> 8.12e+04</td> <td> 1.54e+05</td>\n",
       "</tr>\n",
       "<tr>\n",
       "  <th>C(zipcode)[T.98052]</th> <td> 2.398e+05</td> <td> 1.46e+04</td> <td>   16.441</td> <td> 0.000</td> <td> 2.11e+05</td> <td> 2.68e+05</td>\n",
       "</tr>\n",
       "<tr>\n",
       "  <th>C(zipcode)[T.98053]</th> <td> 1.994e+05</td> <td> 1.59e+04</td> <td>   12.565</td> <td> 0.000</td> <td> 1.68e+05</td> <td> 2.31e+05</td>\n",
       "</tr>\n",
       "<tr>\n",
       "  <th>C(zipcode)[T.98055]</th> <td> 5.209e+04</td> <td> 1.77e+04</td> <td>    2.949</td> <td> 0.003</td> <td> 1.75e+04</td> <td> 8.67e+04</td>\n",
       "</tr>\n",
       "<tr>\n",
       "  <th>C(zipcode)[T.98056]</th> <td> 9.749e+04</td> <td> 1.57e+04</td> <td>    6.221</td> <td> 0.000</td> <td> 6.68e+04</td> <td> 1.28e+05</td>\n",
       "</tr>\n",
       "<tr>\n",
       "  <th>C(zipcode)[T.98058]</th> <td> 3.387e+04</td> <td> 1.52e+04</td> <td>    2.231</td> <td> 0.026</td> <td> 4107.295</td> <td> 6.36e+04</td>\n",
       "</tr>\n",
       "<tr>\n",
       "  <th>C(zipcode)[T.98059]</th> <td> 6.743e+04</td> <td> 1.53e+04</td> <td>    4.398</td> <td> 0.000</td> <td> 3.74e+04</td> <td> 9.75e+04</td>\n",
       "</tr>\n",
       "<tr>\n",
       "  <th>C(zipcode)[T.98065]</th> <td> 6.973e+04</td> <td> 1.69e+04</td> <td>    4.121</td> <td> 0.000</td> <td> 3.66e+04</td> <td> 1.03e+05</td>\n",
       "</tr>\n",
       "<tr>\n",
       "  <th>C(zipcode)[T.98070]</th> <td> 2.012e+05</td> <td> 2.27e+04</td> <td>    8.878</td> <td> 0.000</td> <td> 1.57e+05</td> <td> 2.46e+05</td>\n",
       "</tr>\n",
       "<tr>\n",
       "  <th>C(zipcode)[T.98072]</th> <td> 1.684e+05</td> <td> 1.76e+04</td> <td>    9.587</td> <td> 0.000</td> <td> 1.34e+05</td> <td> 2.03e+05</td>\n",
       "</tr>\n",
       "<tr>\n",
       "  <th>C(zipcode)[T.98074]</th> <td> 2.124e+05</td> <td> 1.55e+04</td> <td>   13.705</td> <td> 0.000</td> <td> 1.82e+05</td> <td> 2.43e+05</td>\n",
       "</tr>\n",
       "<tr>\n",
       "  <th>C(zipcode)[T.98075]</th> <td> 2.163e+05</td> <td> 1.64e+04</td> <td>   13.180</td> <td> 0.000</td> <td> 1.84e+05</td> <td> 2.49e+05</td>\n",
       "</tr>\n",
       "<tr>\n",
       "  <th>C(zipcode)[T.98077]</th> <td> 1.319e+05</td> <td> 1.92e+04</td> <td>    6.868</td> <td> 0.000</td> <td> 9.43e+04</td> <td>  1.7e+05</td>\n",
       "</tr>\n",
       "<tr>\n",
       "  <th>C(zipcode)[T.98092]</th> <td> -3.19e+04</td> <td> 1.63e+04</td> <td>   -1.960</td> <td> 0.050</td> <td>-6.38e+04</td> <td>    3.014</td>\n",
       "</tr>\n",
       "<tr>\n",
       "  <th>C(zipcode)[T.98102]</th> <td> 5.671e+05</td> <td> 2.46e+04</td> <td>   23.076</td> <td> 0.000</td> <td> 5.19e+05</td> <td> 6.15e+05</td>\n",
       "</tr>\n",
       "<tr>\n",
       "  <th>C(zipcode)[T.98103]</th> <td> 3.731e+05</td> <td> 1.47e+04</td> <td>   25.456</td> <td> 0.000</td> <td> 3.44e+05</td> <td> 4.02e+05</td>\n",
       "</tr>\n",
       "<tr>\n",
       "  <th>C(zipcode)[T.98105]</th> <td> 5.206e+05</td> <td> 1.89e+04</td> <td>   27.608</td> <td> 0.000</td> <td> 4.84e+05</td> <td> 5.58e+05</td>\n",
       "</tr>\n",
       "<tr>\n",
       "  <th>C(zipcode)[T.98106]</th> <td>  1.58e+05</td> <td> 1.66e+04</td> <td>    9.517</td> <td> 0.000</td> <td> 1.25e+05</td> <td>  1.9e+05</td>\n",
       "</tr>\n",
       "<tr>\n",
       "  <th>C(zipcode)[T.98107]</th> <td> 3.876e+05</td> <td> 1.76e+04</td> <td>   21.981</td> <td> 0.000</td> <td> 3.53e+05</td> <td> 4.22e+05</td>\n",
       "</tr>\n",
       "<tr>\n",
       "  <th>C(zipcode)[T.98108]</th> <td> 1.407e+05</td> <td> 1.96e+04</td> <td>    7.189</td> <td> 0.000</td> <td> 1.02e+05</td> <td> 1.79e+05</td>\n",
       "</tr>\n",
       "<tr>\n",
       "  <th>C(zipcode)[T.98109]</th> <td> 5.565e+05</td> <td>  2.4e+04</td> <td>   23.184</td> <td> 0.000</td> <td> 5.09e+05</td> <td> 6.04e+05</td>\n",
       "</tr>\n",
       "<tr>\n",
       "  <th>C(zipcode)[T.98112]</th> <td> 6.771e+05</td> <td> 1.76e+04</td> <td>   38.541</td> <td> 0.000</td> <td> 6.43e+05</td> <td> 7.12e+05</td>\n",
       "</tr>\n",
       "<tr>\n",
       "  <th>C(zipcode)[T.98115]</th> <td>  3.62e+05</td> <td> 1.47e+04</td> <td>   24.706</td> <td> 0.000</td> <td> 3.33e+05</td> <td> 3.91e+05</td>\n",
       "</tr>\n",
       "<tr>\n",
       "  <th>C(zipcode)[T.98116]</th> <td> 3.558e+05</td> <td> 1.66e+04</td> <td>   21.451</td> <td> 0.000</td> <td> 3.23e+05</td> <td> 3.88e+05</td>\n",
       "</tr>\n",
       "<tr>\n",
       "  <th>C(zipcode)[T.98117]</th> <td> 3.588e+05</td> <td> 1.48e+04</td> <td>   24.205</td> <td> 0.000</td> <td>  3.3e+05</td> <td> 3.88e+05</td>\n",
       "</tr>\n",
       "<tr>\n",
       "  <th>C(zipcode)[T.98118]</th> <td> 2.063e+05</td> <td>  1.5e+04</td> <td>   13.737</td> <td> 0.000</td> <td> 1.77e+05</td> <td> 2.36e+05</td>\n",
       "</tr>\n",
       "<tr>\n",
       "  <th>C(zipcode)[T.98119]</th> <td> 5.682e+05</td> <td> 1.96e+04</td> <td>   28.923</td> <td> 0.000</td> <td>  5.3e+05</td> <td> 6.07e+05</td>\n",
       "</tr>\n",
       "<tr>\n",
       "  <th>C(zipcode)[T.98122]</th> <td> 3.771e+05</td> <td> 1.71e+04</td> <td>   22.028</td> <td> 0.000</td> <td> 3.44e+05</td> <td> 4.11e+05</td>\n",
       "</tr>\n",
       "<tr>\n",
       "  <th>C(zipcode)[T.98125]</th> <td> 2.335e+05</td> <td> 1.58e+04</td> <td>   14.759</td> <td> 0.000</td> <td> 2.03e+05</td> <td> 2.65e+05</td>\n",
       "</tr>\n",
       "<tr>\n",
       "  <th>C(zipcode)[T.98126]</th> <td> 2.405e+05</td> <td> 1.64e+04</td> <td>   14.662</td> <td> 0.000</td> <td> 2.08e+05</td> <td> 2.73e+05</td>\n",
       "</tr>\n",
       "<tr>\n",
       "  <th>C(zipcode)[T.98133]</th> <td>  1.79e+05</td> <td> 1.51e+04</td> <td>   11.867</td> <td> 0.000</td> <td> 1.49e+05</td> <td> 2.09e+05</td>\n",
       "</tr>\n",
       "<tr>\n",
       "  <th>C(zipcode)[T.98136]</th> <td> 3.366e+05</td> <td> 1.76e+04</td> <td>   19.139</td> <td> 0.000</td> <td> 3.02e+05</td> <td> 3.71e+05</td>\n",
       "</tr>\n",
       "<tr>\n",
       "  <th>C(zipcode)[T.98144]</th> <td> 3.297e+05</td> <td> 1.65e+04</td> <td>   19.931</td> <td> 0.000</td> <td> 2.97e+05</td> <td> 3.62e+05</td>\n",
       "</tr>\n",
       "<tr>\n",
       "  <th>C(zipcode)[T.98146]</th> <td>  1.58e+05</td> <td> 1.69e+04</td> <td>    9.340</td> <td> 0.000</td> <td> 1.25e+05</td> <td> 1.91e+05</td>\n",
       "</tr>\n",
       "<tr>\n",
       "  <th>C(zipcode)[T.98148]</th> <td> 7.866e+04</td> <td> 3.18e+04</td> <td>    2.477</td> <td> 0.013</td> <td> 1.64e+04</td> <td> 1.41e+05</td>\n",
       "</tr>\n",
       "<tr>\n",
       "  <th>C(zipcode)[T.98155]</th> <td> 1.787e+05</td> <td> 1.55e+04</td> <td>   11.519</td> <td> 0.000</td> <td> 1.48e+05</td> <td> 2.09e+05</td>\n",
       "</tr>\n",
       "<tr>\n",
       "  <th>C(zipcode)[T.98166]</th> <td> 1.483e+05</td> <td> 1.77e+04</td> <td>    8.378</td> <td> 0.000</td> <td> 1.14e+05</td> <td> 1.83e+05</td>\n",
       "</tr>\n",
       "<tr>\n",
       "  <th>C(zipcode)[T.98168]</th> <td>  8.18e+04</td> <td> 1.76e+04</td> <td>    4.655</td> <td> 0.000</td> <td> 4.74e+04</td> <td> 1.16e+05</td>\n",
       "</tr>\n",
       "<tr>\n",
       "  <th>C(zipcode)[T.98177]</th> <td> 3.013e+05</td> <td> 1.75e+04</td> <td>   17.215</td> <td> 0.000</td> <td> 2.67e+05</td> <td> 3.36e+05</td>\n",
       "</tr>\n",
       "<tr>\n",
       "  <th>C(zipcode)[T.98178]</th> <td> 8.844e+04</td> <td> 1.76e+04</td> <td>    5.032</td> <td> 0.000</td> <td>  5.4e+04</td> <td> 1.23e+05</td>\n",
       "</tr>\n",
       "<tr>\n",
       "  <th>C(zipcode)[T.98188]</th> <td> 4.609e+04</td> <td> 2.19e+04</td> <td>    2.107</td> <td> 0.035</td> <td> 3213.439</td> <td>  8.9e+04</td>\n",
       "</tr>\n",
       "<tr>\n",
       "  <th>C(zipcode)[T.98198]</th> <td> 6.798e+04</td> <td> 1.74e+04</td> <td>    3.899</td> <td> 0.000</td> <td> 3.38e+04</td> <td> 1.02e+05</td>\n",
       "</tr>\n",
       "<tr>\n",
       "  <th>C(zipcode)[T.98199]</th> <td> 4.473e+05</td> <td> 1.66e+04</td> <td>   26.922</td> <td> 0.000</td> <td> 4.15e+05</td> <td>  4.8e+05</td>\n",
       "</tr>\n",
       "<tr>\n",
       "  <th>sqft_living</th>         <td>  273.5198</td> <td>    2.056</td> <td>  133.067</td> <td> 0.000</td> <td>  269.491</td> <td>  277.549</td>\n",
       "</tr>\n",
       "<tr>\n",
       "  <th>condition</th>           <td> 2.971e+04</td> <td> 2390.133</td> <td>   12.432</td> <td> 0.000</td> <td>  2.5e+04</td> <td> 3.44e+04</td>\n",
       "</tr>\n",
       "<tr>\n",
       "  <th>sqft_basement</th>       <td>  -64.6245</td> <td>    4.052</td> <td>  -15.949</td> <td> 0.000</td> <td>  -72.567</td> <td>  -56.682</td>\n",
       "</tr>\n",
       "</table>\n",
       "<table class=\"simpletable\">\n",
       "<tr>\n",
       "  <th>Omnibus:</th>       <td>17532.569</td> <th>  Durbin-Watson:     </th>  <td>   2.020</td>  \n",
       "</tr>\n",
       "<tr>\n",
       "  <th>Prob(Omnibus):</th>  <td> 0.000</td>   <th>  Jarque-Bera (JB):  </th> <td>2541558.693</td>\n",
       "</tr>\n",
       "<tr>\n",
       "  <th>Skew:</th>           <td> 4.695</td>   <th>  Prob(JB):          </th>  <td>    0.00</td>  \n",
       "</tr>\n",
       "<tr>\n",
       "  <th>Kurtosis:</th>       <td>61.649</td>   <th>  Cond. No.          </th>  <td>1.52e+05</td>  \n",
       "</tr>\n",
       "</table><br/><br/>Warnings:<br/>[1] Standard Errors assume that the covariance matrix of the errors is correctly specified.<br/>[2] The condition number is large, 1.52e+05. This might indicate that there are<br/>strong multicollinearity or other numerical problems."
      ],
      "text/plain": [
       "<class 'statsmodels.iolib.summary.Summary'>\n",
       "\"\"\"\n",
       "                            OLS Regression Results                            \n",
       "==============================================================================\n",
       "Dep. Variable:                  price   R-squared:                       0.731\n",
       "Model:                            OLS   Adj. R-squared:                  0.730\n",
       "Method:                 Least Squares   F-statistic:                     649.6\n",
       "Date:                Wed, 21 Oct 2020   Prob (F-statistic):               0.00\n",
       "Time:                        20:42:38   Log-Likelihood:            -2.3502e+05\n",
       "No. Observations:               17290   AIC:                         4.702e+05\n",
       "Df Residuals:                   17217   BIC:                         4.707e+05\n",
       "Df Model:                          72                                         \n",
       "Covariance Type:            nonrobust                                         \n",
       "=======================================================================================\n",
       "                          coef    std err          t      P>|t|      [0.025      0.975]\n",
       "---------------------------------------------------------------------------------------\n",
       "Intercept           -3.244e+05   1.47e+04    -22.122      0.000   -3.53e+05   -2.96e+05\n",
       "C(zipcode)[T.98002]  9471.9243   1.93e+04      0.490      0.624   -2.84e+04    4.74e+04\n",
       "C(zipcode)[T.98003]  2453.0243   1.73e+04      0.141      0.888   -3.15e+04    3.64e+04\n",
       "C(zipcode)[T.98004]  8.381e+05   1.72e+04     48.765      0.000    8.04e+05    8.72e+05\n",
       "C(zipcode)[T.98005]  3.239e+05   2.01e+04     16.107      0.000    2.85e+05    3.63e+05\n",
       "C(zipcode)[T.98006]  3.186e+05   1.53e+04     20.815      0.000    2.89e+05    3.49e+05\n",
       "C(zipcode)[T.98007]   2.61e+05    2.1e+04     12.416      0.000     2.2e+05    3.02e+05\n",
       "C(zipcode)[T.98008]  3.014e+05   1.73e+04     17.390      0.000    2.67e+05    3.35e+05\n",
       "C(zipcode)[T.98010]  6.228e+04   2.53e+04      2.458      0.014    1.26e+04    1.12e+05\n",
       "C(zipcode)[T.98011]  1.249e+05   1.91e+04      6.545      0.000    8.75e+04    1.62e+05\n",
       "C(zipcode)[T.98014]   1.19e+05   2.25e+04      5.291      0.000    7.49e+04    1.63e+05\n",
       "C(zipcode)[T.98019]   6.92e+04   1.98e+04      3.490      0.000    3.03e+04    1.08e+05\n",
       "C(zipcode)[T.98022]  3.495e+04   1.82e+04      1.916      0.055    -803.890    7.07e+04\n",
       "C(zipcode)[T.98023]  -1.54e+04    1.5e+04     -1.028      0.304   -4.48e+04     1.4e+04\n",
       "C(zipcode)[T.98024]  1.832e+05   2.67e+04      6.862      0.000    1.31e+05    2.36e+05\n",
       "C(zipcode)[T.98027]  1.773e+05   1.57e+04     11.281      0.000    1.47e+05    2.08e+05\n",
       "C(zipcode)[T.98028]  1.333e+05   1.75e+04      7.634      0.000    9.91e+04    1.68e+05\n",
       "C(zipcode)[T.98029]   2.23e+05   1.69e+04     13.226      0.000     1.9e+05    2.56e+05\n",
       "C(zipcode)[T.98030] -5904.4878   1.79e+04     -0.330      0.741    -4.1e+04    2.92e+04\n",
       "C(zipcode)[T.98031]  2145.9084   1.75e+04      0.122      0.903   -3.23e+04    3.65e+04\n",
       "C(zipcode)[T.98032]  2.095e+04   2.23e+04      0.938      0.348   -2.28e+04    6.47e+04\n",
       "C(zipcode)[T.98033]  3.896e+05   1.55e+04     25.172      0.000    3.59e+05     4.2e+05\n",
       "C(zipcode)[T.98034]  2.285e+05   1.48e+04     15.427      0.000    1.99e+05    2.58e+05\n",
       "C(zipcode)[T.98038]  1.322e+04   1.47e+04      0.900      0.368   -1.56e+04     4.2e+04\n",
       "C(zipcode)[T.98039]  1.398e+06   3.23e+04     43.315      0.000    1.34e+06    1.46e+06\n",
       "C(zipcode)[T.98040]  5.939e+05   1.74e+04     34.127      0.000     5.6e+05    6.28e+05\n",
       "C(zipcode)[T.98042]  1956.7939   1.49e+04      0.131      0.896   -2.72e+04    3.12e+04\n",
       "C(zipcode)[T.98045]  1.177e+05   1.86e+04      6.321      0.000    8.12e+04    1.54e+05\n",
       "C(zipcode)[T.98052]  2.398e+05   1.46e+04     16.441      0.000    2.11e+05    2.68e+05\n",
       "C(zipcode)[T.98053]  1.994e+05   1.59e+04     12.565      0.000    1.68e+05    2.31e+05\n",
       "C(zipcode)[T.98055]  5.209e+04   1.77e+04      2.949      0.003    1.75e+04    8.67e+04\n",
       "C(zipcode)[T.98056]  9.749e+04   1.57e+04      6.221      0.000    6.68e+04    1.28e+05\n",
       "C(zipcode)[T.98058]  3.387e+04   1.52e+04      2.231      0.026    4107.295    6.36e+04\n",
       "C(zipcode)[T.98059]  6.743e+04   1.53e+04      4.398      0.000    3.74e+04    9.75e+04\n",
       "C(zipcode)[T.98065]  6.973e+04   1.69e+04      4.121      0.000    3.66e+04    1.03e+05\n",
       "C(zipcode)[T.98070]  2.012e+05   2.27e+04      8.878      0.000    1.57e+05    2.46e+05\n",
       "C(zipcode)[T.98072]  1.684e+05   1.76e+04      9.587      0.000    1.34e+05    2.03e+05\n",
       "C(zipcode)[T.98074]  2.124e+05   1.55e+04     13.705      0.000    1.82e+05    2.43e+05\n",
       "C(zipcode)[T.98075]  2.163e+05   1.64e+04     13.180      0.000    1.84e+05    2.49e+05\n",
       "C(zipcode)[T.98077]  1.319e+05   1.92e+04      6.868      0.000    9.43e+04     1.7e+05\n",
       "C(zipcode)[T.98092]  -3.19e+04   1.63e+04     -1.960      0.050   -6.38e+04       3.014\n",
       "C(zipcode)[T.98102]  5.671e+05   2.46e+04     23.076      0.000    5.19e+05    6.15e+05\n",
       "C(zipcode)[T.98103]  3.731e+05   1.47e+04     25.456      0.000    3.44e+05    4.02e+05\n",
       "C(zipcode)[T.98105]  5.206e+05   1.89e+04     27.608      0.000    4.84e+05    5.58e+05\n",
       "C(zipcode)[T.98106]   1.58e+05   1.66e+04      9.517      0.000    1.25e+05     1.9e+05\n",
       "C(zipcode)[T.98107]  3.876e+05   1.76e+04     21.981      0.000    3.53e+05    4.22e+05\n",
       "C(zipcode)[T.98108]  1.407e+05   1.96e+04      7.189      0.000    1.02e+05    1.79e+05\n",
       "C(zipcode)[T.98109]  5.565e+05    2.4e+04     23.184      0.000    5.09e+05    6.04e+05\n",
       "C(zipcode)[T.98112]  6.771e+05   1.76e+04     38.541      0.000    6.43e+05    7.12e+05\n",
       "C(zipcode)[T.98115]   3.62e+05   1.47e+04     24.706      0.000    3.33e+05    3.91e+05\n",
       "C(zipcode)[T.98116]  3.558e+05   1.66e+04     21.451      0.000    3.23e+05    3.88e+05\n",
       "C(zipcode)[T.98117]  3.588e+05   1.48e+04     24.205      0.000     3.3e+05    3.88e+05\n",
       "C(zipcode)[T.98118]  2.063e+05    1.5e+04     13.737      0.000    1.77e+05    2.36e+05\n",
       "C(zipcode)[T.98119]  5.682e+05   1.96e+04     28.923      0.000     5.3e+05    6.07e+05\n",
       "C(zipcode)[T.98122]  3.771e+05   1.71e+04     22.028      0.000    3.44e+05    4.11e+05\n",
       "C(zipcode)[T.98125]  2.335e+05   1.58e+04     14.759      0.000    2.03e+05    2.65e+05\n",
       "C(zipcode)[T.98126]  2.405e+05   1.64e+04     14.662      0.000    2.08e+05    2.73e+05\n",
       "C(zipcode)[T.98133]   1.79e+05   1.51e+04     11.867      0.000    1.49e+05    2.09e+05\n",
       "C(zipcode)[T.98136]  3.366e+05   1.76e+04     19.139      0.000    3.02e+05    3.71e+05\n",
       "C(zipcode)[T.98144]  3.297e+05   1.65e+04     19.931      0.000    2.97e+05    3.62e+05\n",
       "C(zipcode)[T.98146]   1.58e+05   1.69e+04      9.340      0.000    1.25e+05    1.91e+05\n",
       "C(zipcode)[T.98148]  7.866e+04   3.18e+04      2.477      0.013    1.64e+04    1.41e+05\n",
       "C(zipcode)[T.98155]  1.787e+05   1.55e+04     11.519      0.000    1.48e+05    2.09e+05\n",
       "C(zipcode)[T.98166]  1.483e+05   1.77e+04      8.378      0.000    1.14e+05    1.83e+05\n",
       "C(zipcode)[T.98168]   8.18e+04   1.76e+04      4.655      0.000    4.74e+04    1.16e+05\n",
       "C(zipcode)[T.98177]  3.013e+05   1.75e+04     17.215      0.000    2.67e+05    3.36e+05\n",
       "C(zipcode)[T.98178]  8.844e+04   1.76e+04      5.032      0.000     5.4e+04    1.23e+05\n",
       "C(zipcode)[T.98188]  4.609e+04   2.19e+04      2.107      0.035    3213.439     8.9e+04\n",
       "C(zipcode)[T.98198]  6.798e+04   1.74e+04      3.899      0.000    3.38e+04    1.02e+05\n",
       "C(zipcode)[T.98199]  4.473e+05   1.66e+04     26.922      0.000    4.15e+05     4.8e+05\n",
       "sqft_living           273.5198      2.056    133.067      0.000     269.491     277.549\n",
       "condition            2.971e+04   2390.133     12.432      0.000     2.5e+04    3.44e+04\n",
       "sqft_basement         -64.6245      4.052    -15.949      0.000     -72.567     -56.682\n",
       "==============================================================================\n",
       "Omnibus:                    17532.569   Durbin-Watson:                   2.020\n",
       "Prob(Omnibus):                  0.000   Jarque-Bera (JB):          2541558.693\n",
       "Skew:                           4.695   Prob(JB):                         0.00\n",
       "Kurtosis:                      61.649   Cond. No.                     1.52e+05\n",
       "==============================================================================\n",
       "\n",
       "Warnings:\n",
       "[1] Standard Errors assume that the covariance matrix of the errors is correctly specified.\n",
       "[2] The condition number is large, 1.52e+05. This might indicate that there are\n",
       "strong multicollinearity or other numerical problems.\n",
       "\"\"\""
      ]
     },
     "execution_count": 182,
     "metadata": {},
     "output_type": "execute_result"
    }
   ],
   "source": [
    "pre_mlr = smf.ols(formula=\"price~sqft_living+C(zipcode)+condition+sqft_basement\", data=kc_df).fit()\n",
    "pre_mlr.summary()"
   ]
  },
  {
   "cell_type": "markdown",
   "metadata": {},
   "source": [
    "This model performs decently for a simple model with adjusted R-squred value of 0.527. Future model will use this as the baseline for its performance comparison. Also indicated by summary messages there are some multicolinearity concerns with this model and this is also indicated between sqft_living and bedroom's correlation value of 0.57 from the correlation matrix heatmap. Some bedroom categories also contain p-values higher than typcial alpha (a=0.05), so this feature will be explored further feature engineering to improve the model performance. "
   ]
  },
  {
   "cell_type": "markdown",
   "metadata": {},
   "source": [
    "## Feature Engineering"
   ]
  },
  {
   "cell_type": "markdown",
   "metadata": {},
   "source": [
    "### Renovation"
   ]
  },
  {
   "cell_type": "code",
   "execution_count": 379,
   "metadata": {},
   "outputs": [],
   "source": [
    "kc_df[\"renovated\"] = kc_df.yr_renovated.apply(lambda x: 1 if x > 0 else 0)"
   ]
  },
  {
   "cell_type": "markdown",
   "metadata": {},
   "source": [
    "### Renovation Age\n",
    "This feature could be a good candidate to make a negatively correlated feature. "
   ]
  },
  {
   "cell_type": "code",
   "execution_count": 380,
   "metadata": {},
   "outputs": [],
   "source": [
    "kc_df[\"renovation_age\"] = kc_df.yr_renovated.apply(lambda x: 2020-x if x > 0 else 0)"
   ]
  },
  {
   "cell_type": "markdown",
   "metadata": {},
   "source": [
    "### Master Bathroom\n",
    "\n",
    "Properties with 2 or more bathrooms are most likely to contain a master bathroom, which is highly desirable to many buyers. It is not a gaurantee that a property with 2 bathrooms have a master bathroom. However, given that bathroom is a highly correlated column to prices and contain multiple colinearity between other features it could be a good candidate for feature engineering."
   ]
  },
  {
   "cell_type": "code",
   "execution_count": 381,
   "metadata": {},
   "outputs": [],
   "source": [
    "kc_df[\"master_bathroom\"] = kc_df.bathrooms.apply(lambda x: 1 if x > 2 else 0)"
   ]
  },
  {
   "cell_type": "markdown",
   "metadata": {},
   "source": [
    "### Sold Year and Sold Quarter"
   ]
  },
  {
   "cell_type": "code",
   "execution_count": 383,
   "metadata": {},
   "outputs": [],
   "source": [
    "kc_df[\"sale_year\"] = kc_df.date.apply(lambda x: int(x[:4])) #convert first 4 character, year, into int\n",
    "kc_df[\"sale_quarter\"] = kc_df.date.apply(lambda x: int(x[4:6])//3.1 + 1) #fancy math convert month, 4-5 index, to quarters in int"
   ]
  },
  {
   "cell_type": "markdown",
   "metadata": {},
   "source": [
    "#### Feature Check\n",
    "All features should be float or integer before going to engineering. Date, id, and price column will be eliminated before being added to Sklearn linear regression training. "
   ]
  },
  {
   "cell_type": "code",
   "execution_count": 384,
   "metadata": {
    "scrolled": true
   },
   "outputs": [
    {
     "data": {
      "text/html": [
       "<div>\n",
       "<style scoped>\n",
       "    .dataframe tbody tr th:only-of-type {\n",
       "        vertical-align: middle;\n",
       "    }\n",
       "\n",
       "    .dataframe tbody tr th {\n",
       "        vertical-align: top;\n",
       "    }\n",
       "\n",
       "    .dataframe thead th {\n",
       "        text-align: right;\n",
       "    }\n",
       "</style>\n",
       "<table border=\"1\" class=\"dataframe\">\n",
       "  <thead>\n",
       "    <tr style=\"text-align: right;\">\n",
       "      <th></th>\n",
       "      <th>id</th>\n",
       "      <th>date</th>\n",
       "      <th>price</th>\n",
       "      <th>bedrooms</th>\n",
       "      <th>bathrooms</th>\n",
       "      <th>sqft_living</th>\n",
       "      <th>sqft_lot</th>\n",
       "      <th>floors</th>\n",
       "      <th>waterfront</th>\n",
       "      <th>view</th>\n",
       "      <th>...</th>\n",
       "      <th>zipcode</th>\n",
       "      <th>lat</th>\n",
       "      <th>long</th>\n",
       "      <th>sqft_living15</th>\n",
       "      <th>sqft_lot15</th>\n",
       "      <th>renovated</th>\n",
       "      <th>renovation_age</th>\n",
       "      <th>master_bathroom</th>\n",
       "      <th>sale_year</th>\n",
       "      <th>sale_quarter</th>\n",
       "    </tr>\n",
       "  </thead>\n",
       "  <tbody>\n",
       "    <tr>\n",
       "      <th>0</th>\n",
       "      <td>2591820310</td>\n",
       "      <td>20141006T000000</td>\n",
       "      <td>365000.0</td>\n",
       "      <td>4</td>\n",
       "      <td>2.25</td>\n",
       "      <td>2070</td>\n",
       "      <td>8893</td>\n",
       "      <td>2.0</td>\n",
       "      <td>0</td>\n",
       "      <td>0</td>\n",
       "      <td>...</td>\n",
       "      <td>98058</td>\n",
       "      <td>47.4388</td>\n",
       "      <td>-122.162</td>\n",
       "      <td>2390</td>\n",
       "      <td>7700</td>\n",
       "      <td>0</td>\n",
       "      <td>0</td>\n",
       "      <td>1</td>\n",
       "      <td>2014</td>\n",
       "      <td>4.0</td>\n",
       "    </tr>\n",
       "    <tr>\n",
       "      <th>1</th>\n",
       "      <td>7974200820</td>\n",
       "      <td>20140821T000000</td>\n",
       "      <td>865000.0</td>\n",
       "      <td>5</td>\n",
       "      <td>3.00</td>\n",
       "      <td>2900</td>\n",
       "      <td>6730</td>\n",
       "      <td>1.0</td>\n",
       "      <td>0</td>\n",
       "      <td>0</td>\n",
       "      <td>...</td>\n",
       "      <td>98115</td>\n",
       "      <td>47.6784</td>\n",
       "      <td>-122.285</td>\n",
       "      <td>2370</td>\n",
       "      <td>6283</td>\n",
       "      <td>0</td>\n",
       "      <td>0</td>\n",
       "      <td>1</td>\n",
       "      <td>2014</td>\n",
       "      <td>3.0</td>\n",
       "    </tr>\n",
       "    <tr>\n",
       "      <th>2</th>\n",
       "      <td>7701450110</td>\n",
       "      <td>20140815T000000</td>\n",
       "      <td>1038000.0</td>\n",
       "      <td>4</td>\n",
       "      <td>2.50</td>\n",
       "      <td>3770</td>\n",
       "      <td>10893</td>\n",
       "      <td>2.0</td>\n",
       "      <td>0</td>\n",
       "      <td>2</td>\n",
       "      <td>...</td>\n",
       "      <td>98006</td>\n",
       "      <td>47.5646</td>\n",
       "      <td>-122.129</td>\n",
       "      <td>3710</td>\n",
       "      <td>9685</td>\n",
       "      <td>0</td>\n",
       "      <td>0</td>\n",
       "      <td>1</td>\n",
       "      <td>2014</td>\n",
       "      <td>3.0</td>\n",
       "    </tr>\n",
       "    <tr>\n",
       "      <th>3</th>\n",
       "      <td>9522300010</td>\n",
       "      <td>20150331T000000</td>\n",
       "      <td>1490000.0</td>\n",
       "      <td>3</td>\n",
       "      <td>3.50</td>\n",
       "      <td>4560</td>\n",
       "      <td>14608</td>\n",
       "      <td>2.0</td>\n",
       "      <td>0</td>\n",
       "      <td>2</td>\n",
       "      <td>...</td>\n",
       "      <td>98034</td>\n",
       "      <td>47.6995</td>\n",
       "      <td>-122.228</td>\n",
       "      <td>4050</td>\n",
       "      <td>14226</td>\n",
       "      <td>0</td>\n",
       "      <td>0</td>\n",
       "      <td>1</td>\n",
       "      <td>2015</td>\n",
       "      <td>1.0</td>\n",
       "    </tr>\n",
       "    <tr>\n",
       "      <th>4</th>\n",
       "      <td>9510861140</td>\n",
       "      <td>20140714T000000</td>\n",
       "      <td>711000.0</td>\n",
       "      <td>3</td>\n",
       "      <td>2.50</td>\n",
       "      <td>2550</td>\n",
       "      <td>5376</td>\n",
       "      <td>2.0</td>\n",
       "      <td>0</td>\n",
       "      <td>0</td>\n",
       "      <td>...</td>\n",
       "      <td>98052</td>\n",
       "      <td>47.6647</td>\n",
       "      <td>-122.083</td>\n",
       "      <td>2250</td>\n",
       "      <td>4050</td>\n",
       "      <td>0</td>\n",
       "      <td>0</td>\n",
       "      <td>1</td>\n",
       "      <td>2014</td>\n",
       "      <td>3.0</td>\n",
       "    </tr>\n",
       "  </tbody>\n",
       "</table>\n",
       "<p>5 rows × 26 columns</p>\n",
       "</div>"
      ],
      "text/plain": [
       "           id             date      price  bedrooms  bathrooms  sqft_living  \\\n",
       "0  2591820310  20141006T000000   365000.0         4       2.25         2070   \n",
       "1  7974200820  20140821T000000   865000.0         5       3.00         2900   \n",
       "2  7701450110  20140815T000000  1038000.0         4       2.50         3770   \n",
       "3  9522300010  20150331T000000  1490000.0         3       3.50         4560   \n",
       "4  9510861140  20140714T000000   711000.0         3       2.50         2550   \n",
       "\n",
       "   sqft_lot  floors  waterfront  view  ...  zipcode      lat     long  \\\n",
       "0      8893     2.0           0     0  ...    98058  47.4388 -122.162   \n",
       "1      6730     1.0           0     0  ...    98115  47.6784 -122.285   \n",
       "2     10893     2.0           0     2  ...    98006  47.5646 -122.129   \n",
       "3     14608     2.0           0     2  ...    98034  47.6995 -122.228   \n",
       "4      5376     2.0           0     0  ...    98052  47.6647 -122.083   \n",
       "\n",
       "   sqft_living15  sqft_lot15  renovated  renovation_age  master_bathroom  \\\n",
       "0           2390        7700          0               0                1   \n",
       "1           2370        6283          0               0                1   \n",
       "2           3710        9685          0               0                1   \n",
       "3           4050       14226          0               0                1   \n",
       "4           2250        4050          0               0                1   \n",
       "\n",
       "   sale_year  sale_quarter  \n",
       "0       2014           4.0  \n",
       "1       2014           3.0  \n",
       "2       2014           3.0  \n",
       "3       2015           1.0  \n",
       "4       2014           3.0  \n",
       "\n",
       "[5 rows x 26 columns]"
      ]
     },
     "execution_count": 384,
     "metadata": {},
     "output_type": "execute_result"
    }
   ],
   "source": [
    "kc_df.head()"
   ]
  },
  {
   "cell_type": "code",
   "execution_count": 385,
   "metadata": {},
   "outputs": [
    {
     "name": "stdout",
     "output_type": "stream",
     "text": [
      "<class 'pandas.core.frame.DataFrame'>\n",
      "Int64Index: 17290 entries, 0 to 17289\n",
      "Data columns (total 26 columns):\n",
      " #   Column           Non-Null Count  Dtype  \n",
      "---  ------           --------------  -----  \n",
      " 0   id               17290 non-null  int64  \n",
      " 1   date             17290 non-null  object \n",
      " 2   price            17290 non-null  float64\n",
      " 3   bedrooms         17290 non-null  int64  \n",
      " 4   bathrooms        17290 non-null  float64\n",
      " 5   sqft_living      17290 non-null  int64  \n",
      " 6   sqft_lot         17290 non-null  int64  \n",
      " 7   floors           17290 non-null  float64\n",
      " 8   waterfront       17290 non-null  int64  \n",
      " 9   view             17290 non-null  int64  \n",
      " 10  condition        17290 non-null  int64  \n",
      " 11  grade            17290 non-null  int64  \n",
      " 12  sqft_above       17290 non-null  int64  \n",
      " 13  sqft_basement    17290 non-null  int64  \n",
      " 14  yr_built         17290 non-null  int64  \n",
      " 15  yr_renovated     17290 non-null  int64  \n",
      " 16  zipcode          17290 non-null  int64  \n",
      " 17  lat              17290 non-null  float64\n",
      " 18  long             17290 non-null  float64\n",
      " 19  sqft_living15    17290 non-null  int64  \n",
      " 20  sqft_lot15       17290 non-null  int64  \n",
      " 21  renovated        17290 non-null  int64  \n",
      " 22  renovation_age   17290 non-null  int64  \n",
      " 23  master_bathroom  17290 non-null  int64  \n",
      " 24  sale_year        17290 non-null  int64  \n",
      " 25  sale_quarter     17290 non-null  float64\n",
      "dtypes: float64(6), int64(19), object(1)\n",
      "memory usage: 3.6+ MB\n"
     ]
    }
   ],
   "source": [
    "kc_df.info()"
   ]
  },
  {
   "cell_type": "markdown",
   "metadata": {},
   "source": [
    "## Linear Regression"
   ]
  },
  {
   "cell_type": "markdown",
   "metadata": {},
   "source": [
    "### OLS"
   ]
  },
  {
   "cell_type": "code",
   "execution_count": 45,
   "metadata": {
    "scrolled": false
   },
   "outputs": [
    {
     "data": {
      "text/html": [
       "<table class=\"simpletable\">\n",
       "<caption>OLS Regression Results</caption>\n",
       "<tr>\n",
       "  <th>Dep. Variable:</th>          <td>price</td>      <th>  R-squared:         </th>  <td>   0.503</td>  \n",
       "</tr>\n",
       "<tr>\n",
       "  <th>Model:</th>                   <td>OLS</td>       <th>  Adj. R-squared:    </th>  <td>   0.503</td>  \n",
       "</tr>\n",
       "<tr>\n",
       "  <th>Method:</th>             <td>Least Squares</td>  <th>  F-statistic:       </th>  <td>   4368.</td>  \n",
       "</tr>\n",
       "<tr>\n",
       "  <th>Date:</th>             <td>Sun, 18 Oct 2020</td> <th>  Prob (F-statistic):</th>   <td>  0.00</td>   \n",
       "</tr>\n",
       "<tr>\n",
       "  <th>Time:</th>                 <td>18:36:40</td>     <th>  Log-Likelihood:    </th> <td>-2.4033e+05</td>\n",
       "</tr>\n",
       "<tr>\n",
       "  <th>No. Observations:</th>      <td> 17290</td>      <th>  AIC:               </th>  <td>4.807e+05</td> \n",
       "</tr>\n",
       "<tr>\n",
       "  <th>Df Residuals:</th>          <td> 17285</td>      <th>  BIC:               </th>  <td>4.807e+05</td> \n",
       "</tr>\n",
       "<tr>\n",
       "  <th>Df Model:</th>              <td>     4</td>      <th>                     </th>      <td> </td>     \n",
       "</tr>\n",
       "<tr>\n",
       "  <th>Covariance Type:</th>      <td>nonrobust</td>    <th>                     </th>      <td> </td>     \n",
       "</tr>\n",
       "</table>\n",
       "<table class=\"simpletable\">\n",
       "<tr>\n",
       "          <td></td>             <th>coef</th>     <th>std err</th>      <th>t</th>      <th>P>|t|</th>  <th>[0.025</th>    <th>0.975]</th>  \n",
       "</tr>\n",
       "<tr>\n",
       "  <th>Intercept</th>         <td> -5.48e+04</td> <td> 5011.690</td> <td>  -10.935</td> <td> 0.000</td> <td>-6.46e+04</td> <td> -4.5e+04</td>\n",
       "</tr>\n",
       "<tr>\n",
       "  <th>C(renovated)[T.1]</th> <td> 1.505e+05</td> <td>    1e+04</td> <td>   15.038</td> <td> 0.000</td> <td> 1.31e+05</td> <td>  1.7e+05</td>\n",
       "</tr>\n",
       "<tr>\n",
       "  <th>sqft_living</th>       <td>  283.3923</td> <td>    2.459</td> <td>  115.232</td> <td> 0.000</td> <td>  278.572</td> <td>  288.213</td>\n",
       "</tr>\n",
       "<tr>\n",
       "  <th>sqft_basement</th>     <td>   11.6771</td> <td>    5.040</td> <td>    2.317</td> <td> 0.021</td> <td>    1.799</td> <td>   21.555</td>\n",
       "</tr>\n",
       "<tr>\n",
       "  <th>sqft_lot</th>          <td>   -0.2663</td> <td>    0.048</td> <td>   -5.533</td> <td> 0.000</td> <td>   -0.361</td> <td>   -0.172</td>\n",
       "</tr>\n",
       "</table>\n",
       "<table class=\"simpletable\">\n",
       "<tr>\n",
       "  <th>Omnibus:</th>       <td>12231.430</td> <th>  Durbin-Watson:     </th>  <td>   2.021</td> \n",
       "</tr>\n",
       "<tr>\n",
       "  <th>Prob(Omnibus):</th>  <td> 0.000</td>   <th>  Jarque-Bera (JB):  </th> <td>489698.152</td>\n",
       "</tr>\n",
       "<tr>\n",
       "  <th>Skew:</th>           <td> 2.926</td>   <th>  Prob(JB):          </th>  <td>    0.00</td> \n",
       "</tr>\n",
       "<tr>\n",
       "  <th>Kurtosis:</th>       <td>28.407</td>   <th>  Cond. No.          </th>  <td>2.25e+05</td> \n",
       "</tr>\n",
       "</table><br/><br/>Warnings:<br/>[1] Standard Errors assume that the covariance matrix of the errors is correctly specified.<br/>[2] The condition number is large, 2.25e+05. This might indicate that there are<br/>strong multicollinearity or other numerical problems."
      ],
      "text/plain": [
       "<class 'statsmodels.iolib.summary.Summary'>\n",
       "\"\"\"\n",
       "                            OLS Regression Results                            \n",
       "==============================================================================\n",
       "Dep. Variable:                  price   R-squared:                       0.503\n",
       "Model:                            OLS   Adj. R-squared:                  0.503\n",
       "Method:                 Least Squares   F-statistic:                     4368.\n",
       "Date:                Sun, 18 Oct 2020   Prob (F-statistic):               0.00\n",
       "Time:                        18:36:40   Log-Likelihood:            -2.4033e+05\n",
       "No. Observations:               17290   AIC:                         4.807e+05\n",
       "Df Residuals:                   17285   BIC:                         4.807e+05\n",
       "Df Model:                           4                                         \n",
       "Covariance Type:            nonrobust                                         \n",
       "=====================================================================================\n",
       "                        coef    std err          t      P>|t|      [0.025      0.975]\n",
       "-------------------------------------------------------------------------------------\n",
       "Intercept          -5.48e+04   5011.690    -10.935      0.000   -6.46e+04    -4.5e+04\n",
       "C(renovated)[T.1]  1.505e+05      1e+04     15.038      0.000    1.31e+05     1.7e+05\n",
       "sqft_living         283.3923      2.459    115.232      0.000     278.572     288.213\n",
       "sqft_basement        11.6771      5.040      2.317      0.021       1.799      21.555\n",
       "sqft_lot             -0.2663      0.048     -5.533      0.000      -0.361      -0.172\n",
       "==============================================================================\n",
       "Omnibus:                    12231.430   Durbin-Watson:                   2.021\n",
       "Prob(Omnibus):                  0.000   Jarque-Bera (JB):           489698.152\n",
       "Skew:                           2.926   Prob(JB):                         0.00\n",
       "Kurtosis:                      28.407   Cond. No.                     2.25e+05\n",
       "==============================================================================\n",
       "\n",
       "Warnings:\n",
       "[1] Standard Errors assume that the covariance matrix of the errors is correctly specified.\n",
       "[2] The condition number is large, 2.25e+05. This might indicate that there are\n",
       "strong multicollinearity or other numerical problems.\n",
       "\"\"\""
      ]
     },
     "execution_count": 45,
     "metadata": {},
     "output_type": "execute_result"
    }
   ],
   "source": [
    "check1 = smf.ols(formula=\"price~sqft_living+sqft_basement+sqft_lot+C(renovated)\", data=kc_df).fit()\n",
    "check1.summary()"
   ]
  },
  {
   "cell_type": "markdown",
   "metadata": {},
   "source": [
    "### Training and Test Data Setup"
   ]
  },
  {
   "cell_type": "code",
   "execution_count": 400,
   "metadata": {},
   "outputs": [],
   "source": [
    "features = [col for col in kc_df.columns if col not in [\"id\", \"date\", \"price\"] ] #remove id, date, and price column from features\n",
    "lr_kc_df = kc_df[features] #set train/test data using feature above\n",
    "model_target = kc_df[\"price\"] #target column is the price column"
   ]
  },
  {
   "cell_type": "code",
   "execution_count": 401,
   "metadata": {},
   "outputs": [],
   "source": [
    "x_train, x_test, y_train, y_test = train_test_split(lr_kc_df, model_target, random_state=42 ,test_size=0.2)"
   ]
  },
  {
   "cell_type": "code",
   "execution_count": 402,
   "metadata": {},
   "outputs": [],
   "source": [
    "#fit model\n",
    "lm_kc = LinearRegression().fit(x_train, y_train)\n",
    "\n",
    "#training data prediction\n",
    "y_train_prediction = lm_kc.predict(x_test)"
   ]
  },
  {
   "cell_type": "code",
   "execution_count": 403,
   "metadata": {},
   "outputs": [
    {
     "name": "stdout",
     "output_type": "stream",
     "text": [
      "Basic Linear Regression Model Errors\n",
      "Mean Absolute Error: 122964.9231143789\n",
      "Mean Squared Error: 39413688007.13243\n",
      "Root Mean Squared Error: 198528.8090105122\n"
     ]
    }
   ],
   "source": [
    "train_mae = metrics.mean_absolute_error(y_test, y_train_prediction)\n",
    "train_mse = metrics.mean_squared_error(y_test, y_train_prediction)\n",
    "train_rmse = np.sqrt(metrics.mean_squared_error(y_test, y_train_prediction))\n",
    "\n",
    "print(\"Basic Linear Regression Model Errors\")\n",
    "print(\"Mean Absolute Error:\", train_mae )\n",
    "print(\"Mean Squared Error:\",  train_mse)\n",
    "print(\"Root Mean Squared Error:\", train_rmse)"
   ]
  },
  {
   "cell_type": "markdown",
   "metadata": {},
   "source": [
    "### Recursive Feature Elimination"
   ]
  },
  {
   "cell_type": "code",
   "execution_count": 404,
   "metadata": {},
   "outputs": [],
   "source": [
    "kc_rfe = RFE(estimator=LinearRegression(), step=1)\n",
    "kc_rfe = kc_rfe.fit(x_train, y_train)"
   ]
  },
  {
   "cell_type": "code",
   "execution_count": 405,
   "metadata": {},
   "outputs": [
    {
     "data": {
      "text/html": [
       "<div>\n",
       "<style scoped>\n",
       "    .dataframe tbody tr th:only-of-type {\n",
       "        vertical-align: middle;\n",
       "    }\n",
       "\n",
       "    .dataframe tbody tr th {\n",
       "        vertical-align: top;\n",
       "    }\n",
       "\n",
       "    .dataframe thead th {\n",
       "        text-align: right;\n",
       "    }\n",
       "</style>\n",
       "<table border=\"1\" class=\"dataframe\">\n",
       "  <thead>\n",
       "    <tr style=\"text-align: right;\">\n",
       "      <th></th>\n",
       "      <th>Model Features</th>\n",
       "      <th>Feature Ranking</th>\n",
       "    </tr>\n",
       "  </thead>\n",
       "  <tbody>\n",
       "    <tr>\n",
       "      <th>1</th>\n",
       "      <td>bathrooms</td>\n",
       "      <td>1</td>\n",
       "    </tr>\n",
       "    <tr>\n",
       "      <th>2</th>\n",
       "      <td>sqft_living</td>\n",
       "      <td>1</td>\n",
       "    </tr>\n",
       "    <tr>\n",
       "      <th>19</th>\n",
       "      <td>master_bathroom</td>\n",
       "      <td>1</td>\n",
       "    </tr>\n",
       "    <tr>\n",
       "      <th>18</th>\n",
       "      <td>renovation_age</td>\n",
       "      <td>1</td>\n",
       "    </tr>\n",
       "    <tr>\n",
       "      <th>5</th>\n",
       "      <td>waterfront</td>\n",
       "      <td>1</td>\n",
       "    </tr>\n",
       "    <tr>\n",
       "      <th>6</th>\n",
       "      <td>view</td>\n",
       "      <td>1</td>\n",
       "    </tr>\n",
       "    <tr>\n",
       "      <th>7</th>\n",
       "      <td>condition</td>\n",
       "      <td>1</td>\n",
       "    </tr>\n",
       "    <tr>\n",
       "      <th>8</th>\n",
       "      <td>grade</td>\n",
       "      <td>1</td>\n",
       "    </tr>\n",
       "    <tr>\n",
       "      <th>20</th>\n",
       "      <td>sale_year</td>\n",
       "      <td>1</td>\n",
       "    </tr>\n",
       "    <tr>\n",
       "      <th>13</th>\n",
       "      <td>lat</td>\n",
       "      <td>1</td>\n",
       "    </tr>\n",
       "    <tr>\n",
       "      <th>14</th>\n",
       "      <td>long</td>\n",
       "      <td>1</td>\n",
       "    </tr>\n",
       "    <tr>\n",
       "      <th>12</th>\n",
       "      <td>yr_renovated</td>\n",
       "      <td>2</td>\n",
       "    </tr>\n",
       "    <tr>\n",
       "      <th>9</th>\n",
       "      <td>sqft_above</td>\n",
       "      <td>3</td>\n",
       "    </tr>\n",
       "    <tr>\n",
       "      <th>10</th>\n",
       "      <td>sqft_basement</td>\n",
       "      <td>4</td>\n",
       "    </tr>\n",
       "    <tr>\n",
       "      <th>17</th>\n",
       "      <td>renovated</td>\n",
       "      <td>5</td>\n",
       "    </tr>\n",
       "    <tr>\n",
       "      <th>0</th>\n",
       "      <td>bedrooms</td>\n",
       "      <td>6</td>\n",
       "    </tr>\n",
       "    <tr>\n",
       "      <th>4</th>\n",
       "      <td>floors</td>\n",
       "      <td>7</td>\n",
       "    </tr>\n",
       "    <tr>\n",
       "      <th>21</th>\n",
       "      <td>sale_quarter</td>\n",
       "      <td>8</td>\n",
       "    </tr>\n",
       "    <tr>\n",
       "      <th>11</th>\n",
       "      <td>yr_built</td>\n",
       "      <td>9</td>\n",
       "    </tr>\n",
       "    <tr>\n",
       "      <th>15</th>\n",
       "      <td>sqft_living15</td>\n",
       "      <td>10</td>\n",
       "    </tr>\n",
       "    <tr>\n",
       "      <th>16</th>\n",
       "      <td>sqft_lot15</td>\n",
       "      <td>11</td>\n",
       "    </tr>\n",
       "    <tr>\n",
       "      <th>3</th>\n",
       "      <td>sqft_lot</td>\n",
       "      <td>12</td>\n",
       "    </tr>\n",
       "  </tbody>\n",
       "</table>\n",
       "</div>"
      ],
      "text/plain": [
       "     Model Features  Feature Ranking\n",
       "1         bathrooms                1\n",
       "2       sqft_living                1\n",
       "19  master_bathroom                1\n",
       "18   renovation_age                1\n",
       "5        waterfront                1\n",
       "6              view                1\n",
       "7         condition                1\n",
       "8             grade                1\n",
       "20        sale_year                1\n",
       "13              lat                1\n",
       "14             long                1\n",
       "12     yr_renovated                2\n",
       "9        sqft_above                3\n",
       "10    sqft_basement                4\n",
       "17        renovated                5\n",
       "0          bedrooms                6\n",
       "4            floors                7\n",
       "21     sale_quarter                8\n",
       "11         yr_built                9\n",
       "15    sqft_living15               10\n",
       "16       sqft_lot15               11\n",
       "3          sqft_lot               12"
      ]
     },
     "execution_count": 405,
     "metadata": {},
     "output_type": "execute_result"
    }
   ],
   "source": [
    "# Run this cell to visualize how the feature are ranked\n",
    "kc_rfe_ranking = pd.DataFrame({\"Model Features\":x_train.columns, \"Feature Ranking\":kc_rfe.ranking_})\n",
    "kc_rfe_ranking.sort_values(by=\"Feature Ranking\")"
   ]
  },
  {
   "cell_type": "code",
   "execution_count": 406,
   "metadata": {},
   "outputs": [],
   "source": [
    "x_train_rfe = kc_rfe.transform(x_train)\n",
    "x_test_rfe = kc_rfe.transform(x_test)"
   ]
  },
  {
   "cell_type": "code",
   "execution_count": 407,
   "metadata": {},
   "outputs": [],
   "source": [
    "#fit model\n",
    "lm_kc_rfe = LinearRegression().fit(x_train_rfe, y_train)\n",
    "\n",
    "#training data prediction\n",
    "y_train_prediction_rfe = lm_kc_rfe.predict(x_test_rfe)"
   ]
  },
  {
   "cell_type": "code",
   "execution_count": 408,
   "metadata": {
    "scrolled": true
   },
   "outputs": [
    {
     "name": "stdout",
     "output_type": "stream",
     "text": [
      "Linear Regression Model with Recursive Feature Elimination Errors\n",
      "Mean Absolute Error: 130277.02740369321\n",
      "Mean Squared Error: 42885042804.20337\n",
      "Root Mean Squared Error: 207087.0416134321\n"
     ]
    }
   ],
   "source": [
    "train_mae_rfe = metrics.mean_absolute_error(y_test, y_train_prediction_rfe)\n",
    "train_mse_rfe = metrics.mean_squared_error(y_test, y_train_prediction_rfe)\n",
    "train_rmse_rfe = np.sqrt(metrics.mean_squared_error(y_test, y_train_prediction_rfe))\n",
    "\n",
    "print(\"Linear Regression Model with Recursive Feature Elimination Errors\")\n",
    "print('Mean Absolute Error:', train_mae_rfe )\n",
    "print('Mean Squared Error:',  train_mse_rfe)\n",
    "print('Root Mean Squared Error:' , train_rmse_rfe)"
   ]
  },
  {
   "cell_type": "markdown",
   "metadata": {},
   "source": [
    "### Recursive Feature Elimination with Cross Validation"
   ]
  },
  {
   "cell_type": "code",
   "execution_count": 409,
   "metadata": {},
   "outputs": [],
   "source": [
    "kc_rfecv = RFECV(estimator=LinearRegression(), step=1, cv=5, scoring=\"neg_root_mean_squared_error\")\n",
    "kc_rfecv = kc_rfecv.fit(x_train, y_train)"
   ]
  },
  {
   "cell_type": "code",
   "execution_count": 410,
   "metadata": {},
   "outputs": [],
   "source": [
    "x_train_rfecv = kc_rfecv.transform(x_train)\n",
    "x_test_rfecv = kc_rfecv.transform(x_test)"
   ]
  },
  {
   "cell_type": "code",
   "execution_count": 411,
   "metadata": {},
   "outputs": [],
   "source": [
    "#fit model\n",
    "lm_kc_rfecv = LinearRegression().fit(x_train_rfecv, y_train)\n",
    "\n",
    "#training data prediction\n",
    "y_train_prediction_rfecv = lm_kc_rfecv.predict(x_test_rfecv)"
   ]
  },
  {
   "cell_type": "code",
   "execution_count": 412,
   "metadata": {},
   "outputs": [
    {
     "name": "stdout",
     "output_type": "stream",
     "text": [
      "Linear Regression Model with Recursive Feature Elimination with Cross Validation Errors\n",
      "Mean Absolute Error: 122964.9231143789\n",
      "Mean Squared Error: 39413688007.13243\n",
      "Root Mean Squared Error: 198528.8090105122\n"
     ]
    }
   ],
   "source": [
    "train_mae_rfecv = metrics.mean_absolute_error(y_test, y_train_prediction_rfecv)\n",
    "train_mse_rfecv = metrics.mean_squared_error(y_test, y_train_prediction_rfecv)\n",
    "train_rmse_rfecv = np.sqrt(metrics.mean_squared_error(y_test, y_train_prediction_rfecv))\n",
    "\n",
    "print(\"Linear Regression Model with Recursive Feature Elimination with Cross Validation Errors\")\n",
    "print('Mean Absolute Error:', train_mae_rfecv)\n",
    "print('Mean Squared Error:',  train_mse_rfecv)\n",
    "print('Root Mean Squared Error:' , train_rmse_rfecv)"
   ]
  },
  {
   "cell_type": "markdown",
   "metadata": {},
   "source": [
    "## Analysis"
   ]
  },
  {
   "cell_type": "code",
   "execution_count": null,
   "metadata": {},
   "outputs": [],
   "source": []
  }
 ],
 "metadata": {
  "kernelspec": {
   "display_name": "Python 3",
   "language": "python",
   "name": "python3"
  },
  "language_info": {
   "codemirror_mode": {
    "name": "ipython",
    "version": 3
   },
   "file_extension": ".py",
   "mimetype": "text/x-python",
   "name": "python",
   "nbconvert_exporter": "python",
   "pygments_lexer": "ipython3",
   "version": "3.7.1"
  }
 },
 "nbformat": 4,
 "nbformat_minor": 4
}
