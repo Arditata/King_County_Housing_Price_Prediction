{
 "cells": [
  {
   "cell_type": "markdown",
   "metadata": {},
   "source": [
    "# Kings County Housing Price Prediction\n",
    "\n",
    "## Overview\n",
    "\n",
    "Kings County, often referred to as Brooklyn, is one of the most popular neighborhood in United States. Therefore, evaluating and predicting housing prices accurately provides. immense value for all participants of real estate transaction in this neighborhood. This project seeks to analyze and model the given Kings County real estate data to predict future sale prices of different properties. "
   ]
  },
  {
   "cell_type": "code",
   "execution_count": null,
   "metadata": {},
   "outputs": [],
   "source": []
  }
 ],
 "metadata": {
  "kernelspec": {
   "display_name": "Python 3",
   "language": "python",
   "name": "python3"
  },
  "language_info": {
   "codemirror_mode": {
    "name": "ipython",
    "version": 3
   },
   "file_extension": ".py",
   "mimetype": "text/x-python",
   "name": "python",
   "nbconvert_exporter": "python",
   "pygments_lexer": "ipython3",
   "version": "3.7.1"
  }
 },
 "nbformat": 4,
 "nbformat_minor": 4
}
